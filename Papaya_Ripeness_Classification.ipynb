{
  "nbformat": 4,
  "nbformat_minor": 0,
  "metadata": {
    "colab": {
      "name": "Papaya Ripeness Classification.ipynb",
      "provenance": [],
      "collapsed_sections": [
        "rXmeqwtuUrLT"
      ]
    },
    "kernelspec": {
      "display_name": "Python 3",
      "name": "python3"
    },
    "language_info": {
      "name": "python"
    },
    "accelerator": "GPU"
  },
  "cells": [
    {
      "cell_type": "markdown",
      "metadata": {
        "id": "0m7t6TbjnK7G"
      },
      "source": [
        "# Import Dependencies"
      ]
    },
    {
      "cell_type": "code",
      "metadata": {
        "id": "1h-9uec8EdoL"
      },
      "source": [
        "import os\n",
        "import numpy as np\n",
        "import pandas as pd\n",
        "import tensorflow as tf\n",
        "from tensorflow.keras.preprocessing.image import ImageDataGenerator\n",
        "import matplotlib.pyplot as plt"
      ],
      "execution_count": 1,
      "outputs": []
    },
    {
      "cell_type": "code",
      "metadata": {
        "id": "ktRDq7Qst1Fp"
      },
      "source": [
        "import gdown\n",
        "import shutil\n",
        "from sklearn.model_selection import train_test_split"
      ],
      "execution_count": 2,
      "outputs": []
    },
    {
      "cell_type": "markdown",
      "metadata": {
        "id": "z8VTyXzVcMvt"
      },
      "source": [
        "# Mount Google Drive"
      ]
    },
    {
      "cell_type": "code",
      "metadata": {
        "id": "sXy-UMSdcPLi"
      },
      "source": [
        "from google.colab import drive\n",
        "drive.mount('/content/gdrive')"
      ],
      "execution_count": null,
      "outputs": []
    },
    {
      "cell_type": "markdown",
      "metadata": {
        "id": "illOPoTh5VE2"
      },
      "source": [
        "# Check GPU"
      ]
    },
    {
      "cell_type": "code",
      "metadata": {
        "colab": {
          "base_uri": "https://localhost:8080/"
        },
        "id": "0xs9MnBo5Tyj",
        "outputId": "071020d7-7f71-4b9b-d40d-68b4accfc490"
      },
      "source": [
        "!nvidia-smi"
      ],
      "execution_count": 4,
      "outputs": [
        {
          "output_type": "stream",
          "name": "stdout",
          "text": [
            "Sun Oct 10 13:56:02 2021       \n",
            "+-----------------------------------------------------------------------------+\n",
            "| NVIDIA-SMI 470.74       Driver Version: 460.32.03    CUDA Version: 11.2     |\n",
            "|-------------------------------+----------------------+----------------------+\n",
            "| GPU  Name        Persistence-M| Bus-Id        Disp.A | Volatile Uncorr. ECC |\n",
            "| Fan  Temp  Perf  Pwr:Usage/Cap|         Memory-Usage | GPU-Util  Compute M. |\n",
            "|                               |                      |               MIG M. |\n",
            "|===============================+======================+======================|\n",
            "|   0  Tesla K80           Off  | 00000000:00:04.0 Off |                    0 |\n",
            "| N/A   32C    P8    29W / 149W |      0MiB / 11441MiB |      0%      Default |\n",
            "|                               |                      |                  N/A |\n",
            "+-------------------------------+----------------------+----------------------+\n",
            "                                                                               \n",
            "+-----------------------------------------------------------------------------+\n",
            "| Processes:                                                                  |\n",
            "|  GPU   GI   CI        PID   Type   Process name                  GPU Memory |\n",
            "|        ID   ID                                                   Usage      |\n",
            "|=============================================================================|\n",
            "|  No running processes found                                                 |\n",
            "+-----------------------------------------------------------------------------+\n"
          ]
        }
      ]
    },
    {
      "cell_type": "markdown",
      "metadata": {
        "id": "R30BfdDJaWiF"
      },
      "source": [
        "# Image Rename (DON'T NEED TO RUN)"
      ]
    },
    {
      "cell_type": "code",
      "metadata": {
        "id": "CVshB3hQaZKd"
      },
      "source": [
        "i = 1\n",
        "for name in os.listdir('/content/gdrive/MyDrive/CSC340 AI/Datasets/Mature'):\n",
        "  new_name = 'mature_'+str(i).zfill(4)+'.'+name.split('.')[len(name.split('.'))-1]\n",
        "  i+=1\n",
        "  shutil.move('/content/gdrive/MyDrive/CSC340 AI/Datasets/Mature/'+name,'/content/gdrive/MyDrive/CSC340 AI/Datasets/Mature/'+new_name)\n",
        "i = 1\n",
        "for name in os.listdir('/content/gdrive/MyDrive/CSC340 AI/Datasets/Partially Mature'):\n",
        "  new_name = 'partiallymature_'+str(i).zfill(4)+'.'+name.split('.')[len(name.split('.'))-1]\n",
        "  i+=1\n",
        "  shutil.move('/content/gdrive/MyDrive/CSC340 AI/Datasets/Partially Mature/'+name,'/content/gdrive/MyDrive/CSC340 AI/Datasets/Partially Mature/'+new_name)\n",
        "i = 1\n",
        "for name in os.listdir('/content/gdrive/MyDrive/CSC340 AI/Datasets/Unmature'):\n",
        "  new_name = 'unmature_'+str(i).zfill(4)+'.'+name.split('.')[len(name.split('.'))-1]\n",
        "  i+=1\n",
        "  shutil.move('/content/gdrive/MyDrive/CSC340 AI/Datasets/Unmature/'+name,'/content/gdrive/MyDrive/CSC340 AI/Datasets/Unmature/'+new_name)"
      ],
      "execution_count": null,
      "outputs": []
    },
    {
      "cell_type": "markdown",
      "metadata": {
        "id": "SpAaL0izeGXM"
      },
      "source": [
        "## Image Augmentation (DON'T NEED TO RUN)"
      ]
    },
    {
      "cell_type": "code",
      "metadata": {
        "id": "bMnfyDSCeB4l"
      },
      "source": [
        "import tensorflow.keras.layers.experimental.preprocessing as prep\n",
        "data_gen = ImageDataGenerator(\n",
        "      rescale=1./255,\n",
        "      rotation_range=60,\n",
        "      horizontal_flip=True,\n",
        "      vertical_flip=True,\n",
        "      width_shift_range=0.2,\n",
        "      height_shift_range=0.2,\n",
        "      shear_range=0.1,\n",
        "      zoom_range=0.2,\n",
        "      fill_mode='nearest')"
      ],
      "execution_count": null,
      "outputs": []
    },
    {
      "cell_type": "code",
      "metadata": {
        "id": "Eyyvn-Ypmjb5"
      },
      "source": [
        "base='/content/gdrive/MyDrive/CSC340 AI/Datasets'\n",
        "def augmented_img(path):\n",
        "  count = 0\n",
        "  filelist = os.listdir(base+'/'+path)\n",
        "  max = len(filelist)\n",
        "  print(max, filelist)\n",
        "  for i in filelist:\n",
        "    img = plt.imread(base+'/'+path+'/'+i,0)\n",
        "    img = tf.expand_dims(img, 0)\n",
        "    data_gen.fit(img)\n",
        "    extension = i.split('.')\n",
        "    extension = extension[len(extension)-1]\n",
        "    for x, val in zip(data_gen.flow(img,save_to_dir=base+'/'+path,save_prefix='aug',save_format=extension),range(10)):pass\n",
        "    count+=1\n",
        "    print(path+': '+str(count)+'/'+str(max))"
      ],
      "execution_count": null,
      "outputs": []
    },
    {
      "cell_type": "code",
      "metadata": {
        "id": "rFxcxD5UFHB7"
      },
      "source": [
        "augmented_img('Mature')\n",
        "augmented_img('Partially Mature')\n",
        "augmented_img('Unmature')"
      ],
      "execution_count": null,
      "outputs": []
    },
    {
      "cell_type": "markdown",
      "metadata": {
        "id": "gCt4VT4-nS0S"
      },
      "source": [
        "# Import Datasets"
      ]
    },
    {
      "cell_type": "markdown",
      "metadata": {
        "id": "rXmeqwtuUrLT"
      },
      "source": [
        "## Mini Dataset"
      ]
    },
    {
      "cell_type": "markdown",
      "metadata": {
        "id": "h2EwDkEJUrVg"
      },
      "source": [
        "### Define directory path"
      ]
    },
    {
      "cell_type": "code",
      "metadata": {
        "id": "0TAEUS9jUrVg"
      },
      "source": [
        "root_dir = './'"
      ],
      "execution_count": null,
      "outputs": []
    },
    {
      "cell_type": "code",
      "metadata": {
        "id": "Dr7BA3knUrVg"
      },
      "source": [
        "mini_base_dir = os.path.join(root_dir,'papaya_image')\n",
        "mini_raw_mature_dir = os.path.join(mini_base_dir,'mature')\n",
        "mini_raw_partially_dir = os.path.join(mini_base_dir,'partiallymature')\n",
        "mini_raw_unmature_dir = os.path.join(mini_base_dir,'unmature')"
      ],
      "execution_count": null,
      "outputs": []
    },
    {
      "cell_type": "code",
      "metadata": {
        "id": "ZXhfbBegUrVg"
      },
      "source": [
        "mini_train_dir = os.path.join(mini_base_dir,'train')\n",
        "mini_train_mature_dir = os.path.join(mini_train_dir,'Mature')\n",
        "mini_train_partially_mature_dir = os.path.join(mini_train_dir,'Partially Mature')\n",
        "mini_train_unmature_dir = os.path.join(mini_train_dir,'Unmature')"
      ],
      "execution_count": null,
      "outputs": []
    },
    {
      "cell_type": "code",
      "metadata": {
        "id": "4uOhFUk8UrVg"
      },
      "source": [
        "mini_validate_dir = os.path.join(mini_base_dir,'validate')\n",
        "mini_validate_mature_dir = os.path.join(mini_validate_dir,'Mature')\n",
        "mini_validate_partially_mature_dir = os.path.join(mini_validate_dir,'Partially Mature')\n",
        "mini_validate_unmature_dir = os.path.join(mini_validate_dir,'Unmature')"
      ],
      "execution_count": null,
      "outputs": []
    },
    {
      "cell_type": "code",
      "metadata": {
        "id": "Dqkp5GFdUrVg"
      },
      "source": [
        "mini_test_dir = os.path.join(mini_base_dir,'test')\n",
        "mini_test_mature_dir = os.path.join(mini_test_dir,'Mature')\n",
        "mini_test_partially_mature_dir = os.path.join(mini_test_dir,'Partially Mature')\n",
        "mini_test_unmature_dir = os.path.join(mini_test_dir,'Unmature')"
      ],
      "execution_count": null,
      "outputs": []
    },
    {
      "cell_type": "markdown",
      "metadata": {
        "id": "Epc-SY-tUrVg"
      },
      "source": [
        "### Create directory for train and validate"
      ]
    },
    {
      "cell_type": "code",
      "metadata": {
        "id": "wwVIF0EMUrVg"
      },
      "source": [
        "os.mkdir(mini_train_dir)\n",
        "os.mkdir(mini_train_mature_dir)\n",
        "os.mkdir(mini_train_partially_mature_dir)\n",
        "os.mkdir(mini_train_unmature_dir)\n",
        "os.mkdir(mini_validate_dir)\n",
        "os.mkdir(mini_validate_mature_dir)\n",
        "os.mkdir(mini_validate_partially_mature_dir)\n",
        "os.mkdir(mini_validate_unmature_dir)\n",
        "os.mkdir(mini_test_dir)\n",
        "os.mkdir(mini_test_mature_dir)\n",
        "os.mkdir(mini_test_partially_mature_dir)\n",
        "os.mkdir(mini_test_unmature_dir)"
      ],
      "execution_count": null,
      "outputs": []
    },
    {
      "cell_type": "markdown",
      "metadata": {
        "id": "vT88KScbUrVg"
      },
      "source": [
        "### Train and validate split and copy file to target directory"
      ]
    },
    {
      "cell_type": "code",
      "metadata": {
        "id": "kWTZ4TolUrVg"
      },
      "source": [
        "train_mature_df = pd.read_csv('data_mini/mini_mature_train_df.csv')\n",
        "train_partially_mature_df = pd.read_csv('data_mini/mini_partially_mature_train_df.csv')\n",
        "train_unmature_df = pd.read_csv('data_mini/mini_unmature_train_df.csv')\n",
        "test_mature_df = pd.read_csv('data_mini/mini_mature_test_df.csv')\n",
        "test_partially_mature_df = pd.read_csv('data_mini/mini_partially_mature_test_df.csv')\n",
        "test_unmature_df = pd.read_csv('data_mini/mini_unmature_test_df.csv')"
      ],
      "execution_count": null,
      "outputs": []
    },
    {
      "cell_type": "code",
      "metadata": {
        "id": "kO3achs8UrVg"
      },
      "source": [
        "train_size = 0.75"
      ],
      "execution_count": null,
      "outputs": []
    },
    {
      "cell_type": "code",
      "metadata": {
        "id": "TnqZym5aUrVg"
      },
      "source": [
        "mature_train_df, mature_validate_df = train_test_split(train_mature_df,train_size=train_size,random_state=42)\n",
        "partially_mature_train_df, partially_mature_validate_df = train_test_split(train_partially_mature_df,train_size=train_size,random_state=42)\n",
        "unmature_train_df, unmature_validate_df = train_test_split(train_unmature_df,train_size=train_size,random_state=42)"
      ],
      "execution_count": null,
      "outputs": []
    },
    {
      "cell_type": "code",
      "metadata": {
        "id": "GC_gNpriYBgN"
      },
      "source": [
        "mature_train_df"
      ],
      "execution_count": null,
      "outputs": []
    },
    {
      "cell_type": "code",
      "metadata": {
        "id": "bnBCBfdnYC1B"
      },
      "source": [
        "for file in mature_train_df.itertuples():\n",
        "  shutil.copyfile(os.path.join(mini_raw_mature_dir,file[1]),os.path.join(mini_train_mature_dir,file[1]))\n",
        "for file in partially_mature_train_df.itertuples():\n",
        "  shutil.copyfile(os.path.join(mini_raw_partially_dir,file[1]),os.path.join(mini_train_partially_mature_dir,file[1]))\n",
        "for file in unmature_train_df.itertuples():\n",
        "  shutil.copyfile(os.path.join(mini_raw_unmature_dir,file[1]),os.path.join(mini_train_unmature_dir,file[1]))\n",
        "for file in mature_validate_df.itertuples():\n",
        "  shutil.copyfile(os.path.join(mini_raw_mature_dir,file[1]),os.path.join(mini_validate_mature_dir,file[1]))\n",
        "for file in partially_mature_validate_df.itertuples():\n",
        "  shutil.copyfile(os.path.join(mini_raw_partially_dir,file[1]),os.path.join(mini_validate_partially_mature_dir,file[1]))\n",
        "for file in unmature_validate_df.itertuples():\n",
        "  shutil.copyfile(os.path.join(mini_raw_unmature_dir,file[1]),os.path.join(mini_validate_unmature_dir,file[1]))\n",
        "for file in test_mature_df.itertuples():\n",
        "  shutil.copyfile(os.path.join(mini_raw_mature_dir,file[1]),os.path.join(mini_test_mature_dir,file[1]))\n",
        "for file in test_partially_mature_df.itertuples():\n",
        "  shutil.copyfile(os.path.join(mini_raw_partially_dir,file[1]),os.path.join(mini_test_partially_mature_dir,file[1]))\n",
        "for file in test_unmature_df.itertuples():\n",
        "  shutil.copyfile(os.path.join(mini_raw_unmature_dir,file[1]),os.path.join(mini_test_unmature_dir,file[1]))"
      ],
      "execution_count": null,
      "outputs": []
    },
    {
      "cell_type": "markdown",
      "metadata": {
        "id": "hQrBaMAcTs-J"
      },
      "source": [
        "### Download Mini Dataset from Google Drive"
      ]
    },
    {
      "cell_type": "code",
      "metadata": {
        "colab": {
          "base_uri": "https://localhost:8080/",
          "height": 103
        },
        "id": "c_eYpzUrTwHs",
        "outputId": "d69b9c0a-c821-448c-81a7-c1f631a1b251"
      },
      "source": [
        "url = \"https://drive.google.com/uc?id=1VG0jyj46ZAiW1Z3JhFzju40ctufH4bzl\"\n",
        "output = \"papaya_image_mini.zip\"\n",
        "gdown.download(url,output,quiet=False)"
      ],
      "execution_count": null,
      "outputs": [
        {
          "output_type": "stream",
          "name": "stderr",
          "text": [
            "Downloading...\n",
            "From: https://drive.google.com/uc?id=1VG0jyj46ZAiW1Z3JhFzju40ctufH4bzl\n",
            "To: /content/papaya_image_mini.zip\n",
            "100%|██████████| 155M/155M [00:00<00:00, 162MB/s]\n"
          ]
        },
        {
          "output_type": "execute_result",
          "data": {
            "application/vnd.google.colaboratory.intrinsic+json": {
              "type": "string"
            },
            "text/plain": [
              "'papaya_image_mini.zip'"
            ]
          },
          "metadata": {},
          "execution_count": 123
        }
      ]
    },
    {
      "cell_type": "code",
      "metadata": {
        "colab": {
          "base_uri": "https://localhost:8080/",
          "height": 103
        },
        "id": "k4HZhNrIT6eO",
        "outputId": "8f514f34-349a-4a5e-c7de-39865fef17d5"
      },
      "source": [
        "url = \"https://drive.google.com/uc?id=1g-8CN80RXJ7dncNwO56gEizkQDrLWe24\"\n",
        "output = \"data_mini.zip\"\n",
        "gdown.download(url,output,quiet=False)"
      ],
      "execution_count": null,
      "outputs": [
        {
          "output_type": "stream",
          "name": "stderr",
          "text": [
            "Downloading...\n",
            "From: https://drive.google.com/uc?id=1g-8CN80RXJ7dncNwO56gEizkQDrLWe24\n",
            "To: /content/data_mini.zip\n",
            "100%|██████████| 2.50k/2.50k [00:00<00:00, 3.32MB/s]\n"
          ]
        },
        {
          "output_type": "execute_result",
          "data": {
            "application/vnd.google.colaboratory.intrinsic+json": {
              "type": "string"
            },
            "text/plain": [
              "'data_mini.zip'"
            ]
          },
          "metadata": {},
          "execution_count": 160
        }
      ]
    },
    {
      "cell_type": "code",
      "metadata": {
        "colab": {
          "base_uri": "https://localhost:8080/"
        },
        "id": "B7Oo3sNbT5Yr",
        "outputId": "742c2c74-686c-47a3-b33c-a737211ad165"
      },
      "source": [
        "!unzip papaya_image_mini.zip\n",
        "!unzip data_mini.zip"
      ],
      "execution_count": null,
      "outputs": [
        {
          "output_type": "stream",
          "name": "stdout",
          "text": [
            "unzip:  cannot find or open papaya_image_mini.zip, papaya_image_mini.zip.zip or papaya_image_mini.zip.ZIP.\n",
            "Archive:  data_mini.zip\n",
            "  inflating: data_mini/mini_mature_train_df.csv  \n",
            "  inflating: data_mini/mini_partially_mature_test_df.csv  \n",
            "  inflating: data_mini/mini_partially_mature_train_df.csv  \n",
            "  inflating: data_mini/mini_unmature_train_df.csv  \n",
            "  inflating: data_mini/mini_unmature_test_df.csv  \n",
            "  inflating: data_mini/mini_mature_test_df.csv  \n"
          ]
        }
      ]
    },
    {
      "cell_type": "code",
      "metadata": {
        "id": "B85TR_3VWpZo"
      },
      "source": [
        "!rm -rf papaya_image_mini.zip\n",
        "!rm -rf data_mini.zip"
      ],
      "execution_count": null,
      "outputs": []
    },
    {
      "cell_type": "markdown",
      "metadata": {
        "id": "ft-bmNYpBu2T"
      },
      "source": [
        "## Download Dataset from Google Drive"
      ]
    },
    {
      "cell_type": "code",
      "metadata": {
        "colab": {
          "base_uri": "https://localhost:8080/",
          "height": 103
        },
        "id": "Y1WeMyS7BqBv",
        "outputId": "73e507e0-0bd5-49f1-a3a2-a60ecafcb896"
      },
      "source": [
        "url = \"https://drive.google.com/uc?id=1bJaxLQIzgUIrMhoh1kJ0UAJqoVQ0K93F\"\n",
        "output = \"papaya_image.zip\"\n",
        "gdown.download(url,output,quiet=False)"
      ],
      "execution_count": 5,
      "outputs": [
        {
          "output_type": "stream",
          "name": "stderr",
          "text": [
            "Downloading...\n",
            "From: https://drive.google.com/uc?id=1bJaxLQIzgUIrMhoh1kJ0UAJqoVQ0K93F\n",
            "To: /content/papaya_image.zip\n",
            "100%|██████████| 1.73G/1.73G [00:16<00:00, 102MB/s] \n"
          ]
        },
        {
          "output_type": "execute_result",
          "data": {
            "application/vnd.google.colaboratory.intrinsic+json": {
              "type": "string"
            },
            "text/plain": [
              "'papaya_image.zip'"
            ]
          },
          "metadata": {},
          "execution_count": 5
        }
      ]
    },
    {
      "cell_type": "code",
      "metadata": {
        "id": "sNBxb0J3Bn1d"
      },
      "source": [
        "url = \"https://drive.google.com/uc?id=1AT1kviM7VlOPM7zf6L25mePoqg2Z3Lnt\"\n",
        "output = \"data.zip\"\n",
        "gdown.download(url,output,quiet=False)"
      ],
      "execution_count": null,
      "outputs": []
    },
    {
      "cell_type": "code",
      "metadata": {
        "id": "-2UQvL_j1PHO"
      },
      "source": [
        "!unzip papaya_image.zip\n",
        "!unzip data.zip"
      ],
      "execution_count": null,
      "outputs": []
    },
    {
      "cell_type": "code",
      "metadata": {
        "id": "Y8-TWGKJJghR"
      },
      "source": [
        "!rm -rf papaya_image.zip\n",
        "!rm -rf data.zip"
      ],
      "execution_count": 8,
      "outputs": []
    },
    {
      "cell_type": "markdown",
      "metadata": {
        "id": "8EZyGEVPoUne"
      },
      "source": [
        "# Train Validate Split"
      ]
    },
    {
      "cell_type": "markdown",
      "metadata": {
        "id": "sZ0fXRRxuhLh"
      },
      "source": [
        "### Define directory path"
      ]
    },
    {
      "cell_type": "code",
      "metadata": {
        "id": "cWfxpfc-oZF6"
      },
      "source": [
        "root_dir = './'"
      ],
      "execution_count": null,
      "outputs": []
    },
    {
      "cell_type": "code",
      "metadata": {
        "id": "jYzvU3STpI88"
      },
      "source": [
        "base_dir = os.path.join(root_dir,'Datasets')\n",
        "raw_mature_dir = os.path.join(base_dir,'Mature')\n",
        "raw_partially_dir = os.path.join(base_dir,'Partially Mature')\n",
        "raw_unmature_dir = os.path.join(base_dir,'Unmature')"
      ],
      "execution_count": 10,
      "outputs": []
    },
    {
      "cell_type": "code",
      "metadata": {
        "id": "7Qqc1pbTpMx9"
      },
      "source": [
        "train_dir = os.path.join(base_dir,'train')\n",
        "train_mature_dir = os.path.join(train_dir,'Mature')\n",
        "train_partially_mature_dir = os.path.join(train_dir,'Partially Mature')\n",
        "train_unmature_dir = os.path.join(train_dir,'Unmature')"
      ],
      "execution_count": 11,
      "outputs": []
    },
    {
      "cell_type": "code",
      "metadata": {
        "id": "NNQX_YMKpOwh"
      },
      "source": [
        "validate_dir = os.path.join(base_dir,'validate')\n",
        "validate_mature_dir = os.path.join(validate_dir,'Mature')\n",
        "validate_partially_mature_dir = os.path.join(validate_dir,'Partially Mature')\n",
        "validate_unmature_dir = os.path.join(validate_dir,'Unmature')"
      ],
      "execution_count": 12,
      "outputs": []
    },
    {
      "cell_type": "code",
      "metadata": {
        "id": "oZ50kqiS1vrP"
      },
      "source": [
        "test_dir = os.path.join(base_dir,'test')\n",
        "test_mature_dir = os.path.join(test_dir,'Mature')\n",
        "test_partially_mature_dir = os.path.join(test_dir,'Partially Mature')\n",
        "test_unmature_dir = os.path.join(test_dir,'Unmature')"
      ],
      "execution_count": 13,
      "outputs": []
    },
    {
      "cell_type": "markdown",
      "metadata": {
        "id": "NSntbde4ubNO"
      },
      "source": [
        "### Create directory for train and validate"
      ]
    },
    {
      "cell_type": "code",
      "metadata": {
        "id": "HbfzLyfwsu8F"
      },
      "source": [
        "os.mkdir(train_dir)\n",
        "os.mkdir(train_mature_dir)\n",
        "os.mkdir(train_partially_mature_dir)\n",
        "os.mkdir(train_unmature_dir)\n",
        "os.mkdir(validate_dir)\n",
        "os.mkdir(validate_mature_dir)\n",
        "os.mkdir(validate_partially_mature_dir)\n",
        "os.mkdir(validate_unmature_dir)\n",
        "os.mkdir(test_dir)\n",
        "os.mkdir(test_mature_dir)\n",
        "os.mkdir(test_partially_mature_dir)\n",
        "os.mkdir(test_unmature_dir)"
      ],
      "execution_count": 14,
      "outputs": []
    },
    {
      "cell_type": "markdown",
      "metadata": {
        "id": "h5L024JrukuX"
      },
      "source": [
        "### Train and validate split and copy file to target directory"
      ]
    },
    {
      "cell_type": "code",
      "metadata": {
        "id": "jLQJuuKcpWex"
      },
      "source": [
        "train_mature_df = pd.read_csv('data/train_mature_df.csv')\n",
        "train_partially_mature_df = pd.read_csv('data/train_partially_mature_df.csv')\n",
        "train_unmature_df = pd.read_csv('data/train_unmature_df.csv')\n",
        "test_mature_df = pd.read_csv('data/test_mature_df.csv')\n",
        "test_partially_mature_df = pd.read_csv('data/test_partially_mature_df.csv')\n",
        "test_unmature_df = pd.read_csv('data/test_unmature_df.csv')"
      ],
      "execution_count": 15,
      "outputs": []
    },
    {
      "cell_type": "code",
      "metadata": {
        "id": "PEUxZKBa1X08"
      },
      "source": [
        "train_size = 0.75"
      ],
      "execution_count": 16,
      "outputs": []
    },
    {
      "cell_type": "code",
      "metadata": {
        "id": "wK3XcvjO09K9"
      },
      "source": [
        "mature_train_df, mature_validate_df = train_test_split(train_mature_df,train_size=train_size,random_state=42)\n",
        "partially_mature_train_df, partially_mature_validate_df = train_test_split(train_partially_mature_df,train_size=train_size,random_state=42)\n",
        "unmature_train_df, unmature_validate_df = train_test_split(train_unmature_df,train_size=train_size,random_state=42)"
      ],
      "execution_count": 17,
      "outputs": []
    },
    {
      "cell_type": "code",
      "metadata": {
        "colab": {
          "base_uri": "https://localhost:8080/",
          "height": 419
        },
        "id": "aei6mgSi1M4e",
        "outputId": "c1b486ed-d6f1-406e-f788-d8118f96847d"
      },
      "source": [
        "mature_train_df"
      ],
      "execution_count": 18,
      "outputs": [
        {
          "output_type": "execute_result",
          "data": {
            "text/html": [
              "<div>\n",
              "<style scoped>\n",
              "    .dataframe tbody tr th:only-of-type {\n",
              "        vertical-align: middle;\n",
              "    }\n",
              "\n",
              "    .dataframe tbody tr th {\n",
              "        vertical-align: top;\n",
              "    }\n",
              "\n",
              "    .dataframe thead th {\n",
              "        text-align: right;\n",
              "    }\n",
              "</style>\n",
              "<table border=\"1\" class=\"dataframe\">\n",
              "  <thead>\n",
              "    <tr style=\"text-align: right;\">\n",
              "      <th></th>\n",
              "      <th>filename</th>\n",
              "    </tr>\n",
              "  </thead>\n",
              "  <tbody>\n",
              "    <tr>\n",
              "      <th>819</th>\n",
              "      <td>mature_0564.jpg</td>\n",
              "    </tr>\n",
              "    <tr>\n",
              "      <th>1302</th>\n",
              "      <td>mature_1581.png</td>\n",
              "    </tr>\n",
              "    <tr>\n",
              "      <th>1040</th>\n",
              "      <td>mature_1487.png</td>\n",
              "    </tr>\n",
              "    <tr>\n",
              "      <th>1395</th>\n",
              "      <td>mature_0575.jpg</td>\n",
              "    </tr>\n",
              "    <tr>\n",
              "      <th>527</th>\n",
              "      <td>mature_0942.jpg</td>\n",
              "    </tr>\n",
              "    <tr>\n",
              "      <th>...</th>\n",
              "      <td>...</td>\n",
              "    </tr>\n",
              "    <tr>\n",
              "      <th>1130</th>\n",
              "      <td>mature_1592.png</td>\n",
              "    </tr>\n",
              "    <tr>\n",
              "      <th>1294</th>\n",
              "      <td>mature_0721.jpg</td>\n",
              "    </tr>\n",
              "    <tr>\n",
              "      <th>860</th>\n",
              "      <td>mature_0410.jpg</td>\n",
              "    </tr>\n",
              "    <tr>\n",
              "      <th>1459</th>\n",
              "      <td>mature_0158.png</td>\n",
              "    </tr>\n",
              "    <tr>\n",
              "      <th>1126</th>\n",
              "      <td>mature_0674.jpg</td>\n",
              "    </tr>\n",
              "  </tbody>\n",
              "</table>\n",
              "<p>1104 rows × 1 columns</p>\n",
              "</div>"
            ],
            "text/plain": [
              "             filename\n",
              "819   mature_0564.jpg\n",
              "1302  mature_1581.png\n",
              "1040  mature_1487.png\n",
              "1395  mature_0575.jpg\n",
              "527   mature_0942.jpg\n",
              "...               ...\n",
              "1130  mature_1592.png\n",
              "1294  mature_0721.jpg\n",
              "860   mature_0410.jpg\n",
              "1459  mature_0158.png\n",
              "1126  mature_0674.jpg\n",
              "\n",
              "[1104 rows x 1 columns]"
            ]
          },
          "metadata": {},
          "execution_count": 18
        }
      ]
    },
    {
      "cell_type": "code",
      "metadata": {
        "id": "jaGMtsqDsV7z"
      },
      "source": [
        "for file in mature_train_df.itertuples():\n",
        "  shutil.copyfile(os.path.join(raw_mature_dir,file[1]),os.path.join(train_mature_dir,file[1]))\n",
        "for file in partially_mature_train_df.itertuples():\n",
        "  shutil.copyfile(os.path.join(raw_partially_dir,file[1]),os.path.join(train_partially_mature_dir,file[1]))\n",
        "for file in unmature_train_df.itertuples():\n",
        "  shutil.copyfile(os.path.join(raw_unmature_dir,file[1]),os.path.join(train_unmature_dir,file[1]))\n",
        "for file in mature_validate_df.itertuples():\n",
        "  shutil.copyfile(os.path.join(raw_mature_dir,file[1]),os.path.join(validate_mature_dir,file[1]))\n",
        "for file in partially_mature_validate_df.itertuples():\n",
        "  shutil.copyfile(os.path.join(raw_partially_dir,file[1]),os.path.join(validate_partially_mature_dir,file[1]))\n",
        "for file in unmature_validate_df.itertuples():\n",
        "  shutil.copyfile(os.path.join(raw_unmature_dir,file[1]),os.path.join(validate_unmature_dir,file[1]))\n",
        "for file in test_mature_df.itertuples():\n",
        "  shutil.copyfile(os.path.join(raw_mature_dir,file[1]),os.path.join(test_mature_dir,file[1]))\n",
        "for file in test_partially_mature_df.itertuples():\n",
        "  shutil.copyfile(os.path.join(raw_partially_dir,file[1]),os.path.join(test_partially_mature_dir,file[1]))\n",
        "for file in test_unmature_df.itertuples():\n",
        "  shutil.copyfile(os.path.join(raw_unmature_dir,file[1]),os.path.join(test_unmature_dir,file[1]))"
      ],
      "execution_count": 19,
      "outputs": []
    },
    {
      "cell_type": "markdown",
      "metadata": {
        "id": "Yux6wZHk7yvX"
      },
      "source": [
        "# Preprocessing"
      ]
    },
    {
      "cell_type": "code",
      "metadata": {
        "id": "VhxXbsBOuZe2"
      },
      "source": [
        "IMAGE_SIZE = 224\n",
        "model_name = 'model_vgg.h5'"
      ],
      "execution_count": 20,
      "outputs": []
    },
    {
      "cell_type": "code",
      "metadata": {
        "id": "PtS445C5y2vo"
      },
      "source": [
        "BATCH_SIZE = 64"
      ],
      "execution_count": 21,
      "outputs": []
    },
    {
      "cell_type": "code",
      "metadata": {
        "id": "bMPigcYZ8Naq"
      },
      "source": [
        "def showImage(img):\n",
        "  plt.imshow(img)\n",
        "  plt.show()"
      ],
      "execution_count": 22,
      "outputs": []
    },
    {
      "cell_type": "code",
      "metadata": {
        "id": "0hrqx84S8nqR"
      },
      "source": [
        "image_gen_train = ImageDataGenerator(rescale=1./255)"
      ],
      "execution_count": 23,
      "outputs": []
    },
    {
      "cell_type": "code",
      "metadata": {
        "colab": {
          "base_uri": "https://localhost:8080/"
        },
        "id": "uXw89CHH8470",
        "outputId": "6b855eb4-7a15-4a27-cc43-edab7f3dfe83"
      },
      "source": [
        "train_data_gen = image_gen_train.flow_from_directory(batch_size=BATCH_SIZE,\n",
        "                                                     directory=train_dir,\n",
        "                                                     shuffle=True,\n",
        "                                                     class_mode=\"categorical\",\n",
        "                                                     target_size=(IMAGE_SIZE,IMAGE_SIZE))"
      ],
      "execution_count": 24,
      "outputs": [
        {
          "output_type": "stream",
          "name": "stdout",
          "text": [
            "Found 3600 images belonging to 3 classes.\n"
          ]
        }
      ]
    },
    {
      "cell_type": "code",
      "metadata": {
        "id": "Ag8ONIRv8_YD",
        "colab": {
          "base_uri": "https://localhost:8080/",
          "height": 269
        },
        "outputId": "334a27fd-53ad-4573-b8ce-b1ce32b751db"
      },
      "source": [
        "sample_image = train_data_gen[0][0][0]\n",
        "showImage(sample_image)"
      ],
      "execution_count": 25,
      "outputs": [
        {
          "output_type": "display_data",
          "data": {
            "image/png": "[encoded data removed]",
            "text/plain": [
              "<Figure size 432x288 with 1 Axes>"
            ]
          },
          "metadata": {
            "needs_background": "light"
          }
        }
      ]
    },
    {
      "cell_type": "code",
      "metadata": {
        "id": "wwwgqJZXEPOE"
      },
      "source": [
        "train_data_gen.class_indices"
      ],
      "execution_count": null,
      "outputs": []
    },
    {
      "cell_type": "code",
      "metadata": {
        "id": "pSZklofO9yhM"
      },
      "source": [
        "image_gen_val = ImageDataGenerator(rescale=1./255)"
      ],
      "execution_count": null,
      "outputs": []
    },
    {
      "cell_type": "code",
      "metadata": {
        "id": "an_Mg2dz-IqH"
      },
      "source": [
        "val_data_gen = image_gen_val.flow_from_directory(batch_size=BATCH_SIZE,\n",
        "                                                 directory=validate_dir,\n",
        "                                                 class_mode=\"categorical\",\n",
        "                                                 target_size=(IMAGE_SIZE, IMAGE_SIZE))"
      ],
      "execution_count": null,
      "outputs": []
    },
    {
      "cell_type": "code",
      "metadata": {
        "id": "d9Tr_w2FEWij"
      },
      "source": [
        "val_data_gen.class_indices"
      ],
      "execution_count": null,
      "outputs": []
    },
    {
      "cell_type": "markdown",
      "metadata": {
        "id": "xy0xGAjhA8bP"
      },
      "source": [
        "# Model Building"
      ]
    },
    {
      "cell_type": "markdown",
      "metadata": {
        "id": "x4wr4TWpBBwo"
      },
      "source": [
        "## Construct Model (CNN)"
      ]
    },
    {
      "cell_type": "code",
      "metadata": {
        "id": "kImOVkjf-uxe"
      },
      "source": [
        "def getCNNModel():\n",
        "  global IMAGE_SIZE\n",
        "  IMAGE_SIZE = 150\n",
        "  global model_name\n",
        "  model_name = \"model_cnn.h5\"\n",
        "  model = tf.keras.models.Sequential([\n",
        "      tf.keras.layers.Conv2D(64, (3,3), activation='relu', input_shape=(IMAGE_SIZE, IMAGE_SIZE, 3)),\n",
        "      tf.keras.layers.MaxPooling2D(2, 2),\n",
        "      tf.keras.layers.Conv2D(128, (3,3), activation='relu'),\n",
        "      tf.keras.layers.MaxPooling2D(2,2),\n",
        "      tf.keras.layers.Conv2D(128, (3,3), activation='relu'),\n",
        "      tf.keras.layers.MaxPooling2D(2,2),\n",
        "      tf.keras.layers.Flatten(),\n",
        "      tf.keras.layers.Dense(512, activation='relu'),\n",
        "      tf.keras.layers.Dense(256, activation='relu'),\n",
        "      tf.keras.layers.Dense(128, activation='relu'),\n",
        "      tf.keras.layers.Dense(3, activation='softmax')\n",
        "  ])\n",
        "  return model"
      ],
      "execution_count": 30,
      "outputs": []
    },
    {
      "cell_type": "markdown",
      "metadata": {
        "id": "cAtG_hwWEyQI"
      },
      "source": [
        "## Construct Model with Pretrained VGG Model"
      ]
    },
    {
      "cell_type": "code",
      "metadata": {
        "id": "_5XqHoM5Ex96"
      },
      "source": [
        "def getVGGModel():\n",
        "  global IMAGE_SIZE\n",
        "  IMAGE_SIZE = 224\n",
        "  global model_name\n",
        "  model_name = \"model_vgg.h5\"\n",
        "  from tensorflow.keras.applications import VGG16\n",
        "  from tensorflow.keras.layers import Flatten,Dense\n",
        "  from tensorflow.keras import Model\n",
        "  vgg = VGG16(input_shape=[IMAGE_SIZE,IMAGE_SIZE,3], weights='imagenet', include_top=False)\n",
        "  x = Flatten()(vgg.output)\n",
        "  predict = Dense(3, activation='softmax')(x)\n",
        "  model = Model(inputs=vgg.input, outputs=predict)\n",
        "  return model"
      ],
      "execution_count": 31,
      "outputs": []
    },
    {
      "cell_type": "markdown",
      "metadata": {
        "id": "7S-SKZT5VQhl"
      },
      "source": [
        "## Construct Model with Pretrained Resnet50 Model"
      ]
    },
    {
      "cell_type": "code",
      "metadata": {
        "id": "geNxubMhVQEc"
      },
      "source": [
        "def getResNetModel():\n",
        "  global IMAGE_SIZE\n",
        "  IMAGE_SIZE = 224\n",
        "  global model_name\n",
        "  model_name = \"model_resnet.h5\"\n",
        "  from tensorflow.keras.applications import ResNet50\n",
        "  from tensorflow.keras.layers import Flatten,Dense\n",
        "  from tensorflow.keras import Model\n",
        "  resnet = ResNet50(input_shape=[IMAGE_SIZE,IMAGE_SIZE,3], weights='imagenet', include_top=False)\n",
        "  x = Flatten()(resnet.output)\n",
        "  predict = Dense(3, activation='softmax')(x)\n",
        "  model = Model(inputs=resnet.input, outputs=predict)\n",
        "  return model"
      ],
      "execution_count": null,
      "outputs": []
    },
    {
      "cell_type": "markdown",
      "metadata": {
        "id": "lwCC-Qn0ZEGO"
      },
      "source": [
        "# Construct Model"
      ]
    },
    {
      "cell_type": "code",
      "metadata": {
        "id": "BydDdTEeZmhX"
      },
      "source": [
        "def getModel(model_name):\n",
        "  if model_name == 'CNN':\n",
        "    return getCNNModel()\n",
        "  elif model_name == 'VGG':\n",
        "    return getVGGModel()\n",
        "  elif model_name == 'ResNet':\n",
        "    return getResNetModel()"
      ],
      "execution_count": 32,
      "outputs": []
    },
    {
      "cell_type": "code",
      "metadata": {
        "id": "QgOoSfvqYy7v",
        "colab": {
          "base_uri": "https://localhost:8080/"
        },
        "outputId": "7abfbe44-b4b8-4200-ce24-85e82c810cfa"
      },
      "source": [
        "model_name = \"VGG\" #@param [\"CNN\", \"VGG\",\"ResNet\"]\n",
        "model = getModel(model_name)"
      ],
      "execution_count": 33,
      "outputs": [
        {
          "output_type": "stream",
          "name": "stdout",
          "text": [
            "Downloading data from https://storage.googleapis.com/tensorflow/keras-applications/vgg16/vgg16_weights_tf_dim_ordering_tf_kernels_notop.h5\n",
            "58892288/58889256 [==============================] - 1s 0us/step\n",
            "58900480/58889256 [==============================] - 1s 0us/step\n"
          ]
        }
      ]
    },
    {
      "cell_type": "markdown",
      "metadata": {
        "id": "D6ZzeA7DMFrl"
      },
      "source": [
        "## Compile model & Summary"
      ]
    },
    {
      "cell_type": "code",
      "metadata": {
        "id": "bFMJ4UHR_A_u"
      },
      "source": [
        "# with batch size = 100 -> 5 mins/epoch\n",
        "model.compile(optimizer='adam',\n",
        "              loss=tf.keras.losses.CategoricalCrossentropy(from_logits=True),\n",
        "              metrics=['accuracy'])"
      ],
      "execution_count": 34,
      "outputs": []
    },
    {
      "cell_type": "code",
      "metadata": {
        "colab": {
          "base_uri": "https://localhost:8080/"
        },
        "id": "BcyClfTiazM6",
        "outputId": "5c2b7753-f134-4db6-8377-6853a7c59e0f"
      },
      "source": [
        "model.summary()"
      ],
      "execution_count": 35,
      "outputs": [
        {
          "output_type": "stream",
          "name": "stdout",
          "text": [
            "Model: \"model\"\n",
            "_________________________________________________________________\n",
            "Layer (type)                 Output Shape              Param #   \n",
            "=================================================================\n",
            "input_1 (InputLayer)         [(None, 224, 224, 3)]     0         \n",
            "_________________________________________________________________\n",
            "block1_conv1 (Conv2D)        (None, 224, 224, 64)      1792      \n",
            "_________________________________________________________________\n",
            "block1_conv2 (Conv2D)        (None, 224, 224, 64)      36928     \n",
            "_________________________________________________________________\n",
            "block1_pool (MaxPooling2D)   (None, 112, 112, 64)      0         \n",
            "_________________________________________________________________\n",
            "block2_conv1 (Conv2D)        (None, 112, 112, 128)     73856     \n",
            "_________________________________________________________________\n",
            "block2_conv2 (Conv2D)        (None, 112, 112, 128)     147584    \n",
            "_________________________________________________________________\n",
            "block2_pool (MaxPooling2D)   (None, 56, 56, 128)       0         \n",
            "_________________________________________________________________\n",
            "block3_conv1 (Conv2D)        (None, 56, 56, 256)       295168    \n",
            "_________________________________________________________________\n",
            "block3_conv2 (Conv2D)        (None, 56, 56, 256)       590080    \n",
            "_________________________________________________________________\n",
            "block3_conv3 (Conv2D)        (None, 56, 56, 256)       590080    \n",
            "_________________________________________________________________\n",
            "block3_pool (MaxPooling2D)   (None, 28, 28, 256)       0         \n",
            "_________________________________________________________________\n",
            "block4_conv1 (Conv2D)        (None, 28, 28, 512)       1180160   \n",
            "_________________________________________________________________\n",
            "block4_conv2 (Conv2D)        (None, 28, 28, 512)       2359808   \n",
            "_________________________________________________________________\n",
            "block4_conv3 (Conv2D)        (None, 28, 28, 512)       2359808   \n",
            "_________________________________________________________________\n",
            "block4_pool (MaxPooling2D)   (None, 14, 14, 512)       0         \n",
            "_________________________________________________________________\n",
            "block5_conv1 (Conv2D)        (None, 14, 14, 512)       2359808   \n",
            "_________________________________________________________________\n",
            "block5_conv2 (Conv2D)        (None, 14, 14, 512)       2359808   \n",
            "_________________________________________________________________\n",
            "block5_conv3 (Conv2D)        (None, 14, 14, 512)       2359808   \n",
            "_________________________________________________________________\n",
            "block5_pool (MaxPooling2D)   (None, 7, 7, 512)         0         \n",
            "_________________________________________________________________\n",
            "flatten (Flatten)            (None, 25088)             0         \n",
            "_________________________________________________________________\n",
            "dense (Dense)                (None, 3)                 75267     \n",
            "=================================================================\n",
            "Total params: 14,789,955\n",
            "Trainable params: 14,789,955\n",
            "Non-trainable params: 0\n",
            "_________________________________________________________________\n"
          ]
        }
      ]
    },
    {
      "cell_type": "markdown",
      "metadata": {
        "id": "zpCOt2QeA_Q_"
      },
      "source": [
        "## Train Model"
      ]
    },
    {
      "cell_type": "code",
      "metadata": {
        "id": "100jiikV_W-Q"
      },
      "source": [
        "total_train = len(mature_train_df) + len(partially_mature_train_df) + len(unmature_train_df)\n",
        "total_validate = len(mature_validate_df) + len(partially_mature_validate_df) + len(unmature_validate_df)\n",
        "epochs = 50\n",
        "patience = 3"
      ],
      "execution_count": 36,
      "outputs": []
    },
    {
      "cell_type": "code",
      "metadata": {
        "id": "agP9_r_4_1M9"
      },
      "source": [
        "model_checkpoint = tf.keras.callbacks.ModelCheckpoint(\n",
        "    model_name, save_best_only=True)\n",
        "early_stopping = tf.keras.callbacks.EarlyStopping(patience=patience)"
      ],
      "execution_count": 37,
      "outputs": []
    },
    {
      "cell_type": "code",
      "metadata": {
        "id": "dMKZt3D8ABrl",
        "colab": {
          "base_uri": "https://localhost:8080/"
        },
        "outputId": "32b945b7-2033-48e0-f147-6dc8a36d257e"
      },
      "source": [
        "history = model.fit(\n",
        "    train_data_gen,\n",
        "    epochs=epochs,\n",
        "    validation_data=val_data_gen,\n",
        "    batch_size=32,\n",
        "    callbacks=[early_stopping, model_checkpoint]\n",
        ")"
      ],
      "execution_count": 38,
      "outputs": [
        {
          "output_type": "stream",
          "name": "stdout",
          "text": [
            "Epoch 1/50\n"
          ]
        },
        {
          "output_type": "stream",
          "name": "stderr",
          "text": [
            "/usr/local/lib/python3.7/dist-packages/keras/backend.py:4847: UserWarning: \"`categorical_crossentropy` received `from_logits=True`, but the `output` argument was produced by a sigmoid or softmax activation and thus does not represent logits. Was this intended?\"\n",
            "  '\"`categorical_crossentropy` received `from_logits=True`, but '\n"
          ]
        },
        {
          "output_type": "stream",
          "name": "stdout",
          "text": [
            "57/57 [==============================] - 325s 5s/step - loss: 1.2039 - accuracy: 0.3428 - val_loss: 1.1004 - val_accuracy: 0.3978\n",
            "Epoch 2/50\n",
            "57/57 [==============================] - 253s 4s/step - loss: 1.0901 - accuracy: 0.3864 - val_loss: 0.9214 - val_accuracy: 0.5496\n",
            "Epoch 3/50\n",
            "57/57 [==============================] - 256s 4s/step - loss: 0.6077 - accuracy: 0.7056 - val_loss: 0.5359 - val_accuracy: 0.7740\n",
            "Epoch 4/50\n",
            "57/57 [==============================] - 252s 4s/step - loss: 0.4414 - accuracy: 0.8056 - val_loss: 0.3476 - val_accuracy: 0.8590\n",
            "Epoch 5/50\n",
            "57/57 [==============================] - 254s 4s/step - loss: 0.3732 - accuracy: 0.8372 - val_loss: 0.3142 - val_accuracy: 0.8674\n",
            "Epoch 6/50\n",
            "57/57 [==============================] - 251s 4s/step - loss: 0.3071 - accuracy: 0.8722 - val_loss: 0.3447 - val_accuracy: 0.8574\n",
            "Epoch 7/50\n",
            "57/57 [==============================] - 254s 4s/step - loss: 0.3082 - accuracy: 0.8717 - val_loss: 0.2926 - val_accuracy: 0.8724\n",
            "Epoch 8/50\n",
            "57/57 [==============================] - 255s 4s/step - loss: 0.2520 - accuracy: 0.8925 - val_loss: 0.2837 - val_accuracy: 0.8832\n",
            "Epoch 9/50\n",
            "57/57 [==============================] - 255s 4s/step - loss: 0.2747 - accuracy: 0.8881 - val_loss: 0.2797 - val_accuracy: 0.8841\n",
            "Epoch 10/50\n",
            "57/57 [==============================] - 255s 4s/step - loss: 0.2293 - accuracy: 0.9039 - val_loss: 0.2397 - val_accuracy: 0.8982\n",
            "Epoch 11/50\n",
            "57/57 [==============================] - 254s 4s/step - loss: 0.2090 - accuracy: 0.9150 - val_loss: 0.2157 - val_accuracy: 0.8999\n",
            "Epoch 12/50\n",
            "57/57 [==============================] - 253s 4s/step - loss: 0.1981 - accuracy: 0.9197 - val_loss: 0.1799 - val_accuracy: 0.9258\n",
            "Epoch 13/50\n",
            "57/57 [==============================] - 254s 4s/step - loss: 0.1921 - accuracy: 0.9189 - val_loss: 0.2093 - val_accuracy: 0.9149\n",
            "Epoch 14/50\n",
            "57/57 [==============================] - 251s 4s/step - loss: 0.1679 - accuracy: 0.9275 - val_loss: 0.1933 - val_accuracy: 0.9283\n",
            "Epoch 15/50\n",
            "57/57 [==============================] - 251s 4s/step - loss: 0.1463 - accuracy: 0.9392 - val_loss: 0.1709 - val_accuracy: 0.9349\n",
            "Epoch 16/50\n",
            "57/57 [==============================] - 253s 4s/step - loss: 0.1316 - accuracy: 0.9472 - val_loss: 0.2018 - val_accuracy: 0.9183\n",
            "Epoch 17/50\n",
            "57/57 [==============================] - 252s 4s/step - loss: 0.1345 - accuracy: 0.9428 - val_loss: 0.2645 - val_accuracy: 0.9191\n",
            "Epoch 18/50\n",
            "57/57 [==============================] - 254s 4s/step - loss: 0.1501 - accuracy: 0.9383 - val_loss: 0.2097 - val_accuracy: 0.9299\n"
          ]
        }
      ]
    },
    {
      "cell_type": "markdown",
      "metadata": {
        "id": "bJxmvoNzBaHg"
      },
      "source": [
        "## Plot Model Accuracy and Loss"
      ]
    },
    {
      "cell_type": "code",
      "metadata": {
        "id": "TqxuhXJ2AJMU",
        "colab": {
          "base_uri": "https://localhost:8080/",
          "height": 499
        },
        "outputId": "0469369e-55cc-4273-97fc-3a209eff56ae"
      },
      "source": [
        "acc = history.history['accuracy']\n",
        "val_acc = history.history['val_accuracy']\n",
        "\n",
        "loss = history.history['loss']\n",
        "val_loss = history.history['val_loss']\n",
        "\n",
        "epochs_range = range(len(acc))\n",
        "\n",
        "plt.figure(figsize=(8, 8))\n",
        "plt.subplot(1, 2, 1)\n",
        "plt.plot(epochs_range, acc, label='Training Accuracy')\n",
        "plt.plot(epochs_range, val_acc, label='Validation Accuracy')\n",
        "plt.legend(loc='lower right')\n",
        "plt.title('Training and Validation Accuracy')\n",
        "\n",
        "plt.subplot(1, 2, 2)\n",
        "plt.plot(epochs_range, loss, label='Training Loss')\n",
        "plt.plot(epochs_range, val_loss, label='Validation Loss')\n",
        "plt.legend(loc='upper right')\n",
        "plt.title('Training and Validation Loss')\n",
        "plt.show()"
      ],
      "execution_count": 39,
      "outputs": [
        {
          "output_type": "display_data",
          "data": {
            "image/png": "[encoded data removed]",
            "text/plain": [
              "<Figure size 576x576 with 2 Axes>"
            ]
          },
          "metadata": {
            "needs_background": "light"
          }
        }
      ]
    },
    {
      "cell_type": "code",
      "metadata": {
        "id": "0Z__WXbrTGXG",
        "colab": {
          "base_uri": "https://localhost:8080/"
        },
        "outputId": "31cc1643-ef91-4098-85c2-d806264803bb"
      },
      "source": [
        "history.history"
      ],
      "execution_count": 40,
      "outputs": [
        {
          "output_type": "execute_result",
          "data": {
            "text/plain": [
              "{'accuracy': [0.3427777886390686,\n",
              "  0.386388897895813,\n",
              "  0.7055555582046509,\n",
              "  0.8055555820465088,\n",
              "  0.8372222185134888,\n",
              "  0.8722222447395325,\n",
              "  0.871666669845581,\n",
              "  0.8924999833106995,\n",
              "  0.8880555629730225,\n",
              "  0.9038888812065125,\n",
              "  0.9150000214576721,\n",
              "  0.9197221994400024,\n",
              "  0.9188888669013977,\n",
              "  0.9275000095367432,\n",
              "  0.9391666650772095,\n",
              "  0.9472222328186035,\n",
              "  0.9427777528762817,\n",
              "  0.9383333325386047],\n",
              " 'loss': [1.2038577795028687,\n",
              "  1.0900781154632568,\n",
              "  0.6077075600624084,\n",
              "  0.4414353370666504,\n",
              "  0.3732162117958069,\n",
              "  0.3070865869522095,\n",
              "  0.30819210410118103,\n",
              "  0.2520171105861664,\n",
              "  0.2746957838535309,\n",
              "  0.22930394113063812,\n",
              "  0.20897892117500305,\n",
              "  0.19807519018650055,\n",
              "  0.19213205575942993,\n",
              "  0.16792511940002441,\n",
              "  0.14633119106292725,\n",
              "  0.13164444267749786,\n",
              "  0.13453836739063263,\n",
              "  0.15009836852550507],\n",
              " 'val_accuracy': [0.397831529378891,\n",
              "  0.5496246814727783,\n",
              "  0.7739782929420471,\n",
              "  0.8590492010116577,\n",
              "  0.8673895001411438,\n",
              "  0.8573811650276184,\n",
              "  0.8723936676979065,\n",
              "  0.8832360506057739,\n",
              "  0.8840700387954712,\n",
              "  0.898248553276062,\n",
              "  0.8999165892601013,\n",
              "  0.9257714748382568,\n",
              "  0.9149290919303894,\n",
              "  0.9282735586166382,\n",
              "  0.9349457621574402,\n",
              "  0.9182652235031128,\n",
              "  0.9190992712974548,\n",
              "  0.9299415946006775],\n",
              " 'val_loss': [1.1003668308258057,\n",
              "  0.9213690161705017,\n",
              "  0.5359421968460083,\n",
              "  0.34761378169059753,\n",
              "  0.31422150135040283,\n",
              "  0.34468528628349304,\n",
              "  0.29261013865470886,\n",
              "  0.28371766209602356,\n",
              "  0.2797418534755707,\n",
              "  0.23967485129833221,\n",
              "  0.2157185971736908,\n",
              "  0.1799217015504837,\n",
              "  0.20931768417358398,\n",
              "  0.19331300258636475,\n",
              "  0.17091692984104156,\n",
              "  0.201791912317276,\n",
              "  0.2644827961921692,\n",
              "  0.2096860408782959]}"
            ]
          },
          "metadata": {},
          "execution_count": 40
        }
      ]
    },
    {
      "cell_type": "markdown",
      "metadata": {
        "id": "Jf_q7wO3LnGq"
      },
      "source": [
        "## Load Save Model"
      ]
    },
    {
      "cell_type": "code",
      "metadata": {
        "id": "LXcp5VrZAcAT",
        "colab": {
          "base_uri": "https://localhost:8080/",
          "height": 103
        },
        "outputId": "06a58d7a-c7d1-4382-d379-6470e1802153"
      },
      "source": [
        "gdown.download('https://drive.google.com/uc?id=1taE7ApcGf_uowaLgrmnHLOA1eMpBgKbE','model_vgg_v2.h5',quiet=False)"
      ],
      "execution_count": null,
      "outputs": [
        {
          "output_type": "stream",
          "text": [
            "Downloading...\n",
            "From: https://drive.google.com/uc?id=1taE7ApcGf_uowaLgrmnHLOA1eMpBgKbE\n",
            "To: /content/model_vgg_v2.h5\n",
            "178MB [00:00, 220MB/s]\n"
          ],
          "name": "stderr"
        },
        {
          "output_type": "execute_result",
          "data": {
            "application/vnd.google.colaboratory.intrinsic+json": {
              "type": "string"
            },
            "text/plain": [
              "'model_vgg_v2.h5'"
            ]
          },
          "metadata": {},
          "execution_count": 21
        }
      ]
    },
    {
      "cell_type": "code",
      "metadata": {
        "id": "6YmuCTERAHgx"
      },
      "source": [
        "model = tf.keras.models.load_model('model_vgg_v2.h5')"
      ],
      "execution_count": null,
      "outputs": []
    },
    {
      "cell_type": "markdown",
      "metadata": {
        "id": "AeoTj__lBWnS"
      },
      "source": [
        "## Test with Test Data Set"
      ]
    },
    {
      "cell_type": "code",
      "metadata": {
        "id": "MXUF4ojzALOQ"
      },
      "source": [
        "class_labels = [\"ripe\", \"medium\",\"not ripe\"]"
      ],
      "execution_count": 41,
      "outputs": []
    },
    {
      "cell_type": "code",
      "metadata": {
        "id": "X2Y0Z1-6IonP"
      },
      "source": [
        "def predict_img(img_path):\n",
        "  img = tf.keras.preprocessing.image.load_img(\n",
        "      img_path, target_size=(IMAGE_SIZE, IMAGE_SIZE)\n",
        "  )\n",
        "  img_array = tf.keras.preprocessing.image.img_to_array(img)\n",
        "  img_array = img_array / 255\n",
        "  img_array = img_array.reshape(1,IMAGE_SIZE,IMAGE_SIZE,3)\n",
        "  predictions = model.predict(img_array)\n",
        "  score = np.max(predictions[0])\n",
        "  pred_class = class_labels[np.argmax(predictions)]\n",
        "  return pred_class"
      ],
      "execution_count": 42,
      "outputs": []
    },
    {
      "cell_type": "code",
      "metadata": {
        "id": "Ghvg_JDDJONN",
        "colab": {
          "base_uri": "https://localhost:8080/",
          "height": 419
        },
        "outputId": "5fd10771-e7d3-4887-e820-de25b7dcfd51"
      },
      "source": [
        "mature_df = pd.DataFrame(data=os.listdir(test_mature_dir),columns=[\"filename\"])\n",
        "mature_df[\"filename\"] = test_mature_dir +'/'+ mature_df[\"filename\"]\n",
        "mature_df[\"actual\"] = \"ripe\"\n",
        "partial_df = pd.DataFrame(data=os.listdir(test_partially_mature_dir),columns=[\"filename\"])\n",
        "partial_df[\"filename\"] = test_partially_mature_dir+'/' + partial_df[\"filename\"]\n",
        "partial_df[\"actual\"] = \"medium\"\n",
        "unmature_df = pd.DataFrame(data=os.listdir(test_unmature_dir),columns=[\"filename\"])\n",
        "unmature_df[\"filename\"] = test_unmature_dir +'/'+ unmature_df[\"filename\"]\n",
        "unmature_df[\"actual\"] = \"not ripe\"\n",
        "\n",
        "df = pd.concat([mature_df,partial_df,unmature_df])\n",
        "df"
      ],
      "execution_count": 43,
      "outputs": [
        {
          "output_type": "execute_result",
          "data": {
            "text/html": [
              "<div>\n",
              "<style scoped>\n",
              "    .dataframe tbody tr th:only-of-type {\n",
              "        vertical-align: middle;\n",
              "    }\n",
              "\n",
              "    .dataframe tbody tr th {\n",
              "        vertical-align: top;\n",
              "    }\n",
              "\n",
              "    .dataframe thead th {\n",
              "        text-align: right;\n",
              "    }\n",
              "</style>\n",
              "<table border=\"1\" class=\"dataframe\">\n",
              "  <thead>\n",
              "    <tr style=\"text-align: right;\">\n",
              "      <th></th>\n",
              "      <th>filename</th>\n",
              "      <th>actual</th>\n",
              "    </tr>\n",
              "  </thead>\n",
              "  <tbody>\n",
              "    <tr>\n",
              "      <th>0</th>\n",
              "      <td>./Datasets/test/Mature/mature_1632.png</td>\n",
              "      <td>ripe</td>\n",
              "    </tr>\n",
              "    <tr>\n",
              "      <th>1</th>\n",
              "      <td>./Datasets/test/Mature/mature_0946.jpg</td>\n",
              "      <td>ripe</td>\n",
              "    </tr>\n",
              "    <tr>\n",
              "      <th>2</th>\n",
              "      <td>./Datasets/test/Mature/mature_1027.jpg</td>\n",
              "      <td>ripe</td>\n",
              "    </tr>\n",
              "    <tr>\n",
              "      <th>3</th>\n",
              "      <td>./Datasets/test/Mature/mature_0560.jpg</td>\n",
              "      <td>ripe</td>\n",
              "    </tr>\n",
              "    <tr>\n",
              "      <th>4</th>\n",
              "      <td>./Datasets/test/Mature/mature_0109.png</td>\n",
              "      <td>ripe</td>\n",
              "    </tr>\n",
              "    <tr>\n",
              "      <th>...</th>\n",
              "      <td>...</td>\n",
              "      <td>...</td>\n",
              "    </tr>\n",
              "    <tr>\n",
              "      <th>374</th>\n",
              "      <td>./Datasets/test/Unmature/unmature_1618.png</td>\n",
              "      <td>not ripe</td>\n",
              "    </tr>\n",
              "    <tr>\n",
              "      <th>375</th>\n",
              "      <td>./Datasets/test/Unmature/unmature_0795.jpg</td>\n",
              "      <td>not ripe</td>\n",
              "    </tr>\n",
              "    <tr>\n",
              "      <th>376</th>\n",
              "      <td>./Datasets/test/Unmature/unmature_0109.png</td>\n",
              "      <td>not ripe</td>\n",
              "    </tr>\n",
              "    <tr>\n",
              "      <th>377</th>\n",
              "      <td>./Datasets/test/Unmature/unmature_1484.JPG</td>\n",
              "      <td>not ripe</td>\n",
              "    </tr>\n",
              "    <tr>\n",
              "      <th>378</th>\n",
              "      <td>./Datasets/test/Unmature/unmature_1889.png</td>\n",
              "      <td>not ripe</td>\n",
              "    </tr>\n",
              "  </tbody>\n",
              "</table>\n",
              "<p>1203 rows × 2 columns</p>\n",
              "</div>"
            ],
            "text/plain": [
              "                                       filename    actual\n",
              "0        ./Datasets/test/Mature/mature_1632.png      ripe\n",
              "1        ./Datasets/test/Mature/mature_0946.jpg      ripe\n",
              "2        ./Datasets/test/Mature/mature_1027.jpg      ripe\n",
              "3        ./Datasets/test/Mature/mature_0560.jpg      ripe\n",
              "4        ./Datasets/test/Mature/mature_0109.png      ripe\n",
              "..                                          ...       ...\n",
              "374  ./Datasets/test/Unmature/unmature_1618.png  not ripe\n",
              "375  ./Datasets/test/Unmature/unmature_0795.jpg  not ripe\n",
              "376  ./Datasets/test/Unmature/unmature_0109.png  not ripe\n",
              "377  ./Datasets/test/Unmature/unmature_1484.JPG  not ripe\n",
              "378  ./Datasets/test/Unmature/unmature_1889.png  not ripe\n",
              "\n",
              "[1203 rows x 2 columns]"
            ]
          },
          "metadata": {},
          "execution_count": 43
        }
      ]
    },
    {
      "cell_type": "code",
      "metadata": {
        "id": "UMnWBm6oKeNt",
        "colab": {
          "base_uri": "https://localhost:8080/"
        },
        "outputId": "c50b4ca4-3878-4239-9b8c-2d885f579e9e"
      },
      "source": [
        "confusion_matrix = np.zeros(9).reshape(3,3)\n",
        "count = 0\n",
        "true = 0\n",
        "for i in df.itertuples():\n",
        "  count+=1\n",
        "  pred_class = predict_img(i[1])\n",
        "  row = class_labels.index(pred_class)\n",
        "  col = class_labels.index(i[2].lower())\n",
        "  confusion_matrix[row][col] += 1\n",
        "  if pred_class == i[2].lower():\n",
        "    true+=1\n",
        "  if count % 100 == 0:\n",
        "    print(\"Done: \",true,count,\"Accuracy:\",true/count)\n",
        "print(\"Accuracy: \", true/count)"
      ],
      "execution_count": 47,
      "outputs": [
        {
          "output_type": "stream",
          "name": "stdout",
          "text": [
            "Done:  98 100 Accuracy: 0.98\n",
            "Done:  197 200 Accuracy: 0.985\n",
            "Done:  296 300 Accuracy: 0.9866666666666667\n",
            "Done:  394 400 Accuracy: 0.985\n",
            "Done:  483 500 Accuracy: 0.966\n",
            "Done:  571 600 Accuracy: 0.9516666666666667\n",
            "Done:  661 700 Accuracy: 0.9442857142857143\n",
            "Done:  754 800 Accuracy: 0.9425\n",
            "Done:  847 900 Accuracy: 0.9411111111111111\n",
            "Done:  941 1000 Accuracy: 0.941\n",
            "Done:  1028 1100 Accuracy: 0.9345454545454546\n",
            "Done:  1125 1200 Accuracy: 0.9375\n",
            "Accuracy:  0.9376558603491272\n"
          ]
        }
      ]
    },
    {
      "cell_type": "code",
      "metadata": {
        "colab": {
          "base_uri": "https://localhost:8080/",
          "height": 306
        },
        "id": "ZvWHbA24Ngj5",
        "outputId": "dcf8b936-2310-4c7e-d05c-1d6bbbcfb252"
      },
      "source": [
        "fig, ax = plt.subplots()\n",
        "plt.title(\"Confusion Matrix\")\n",
        "heatmap = ax.matshow(confusion_matrix,cmap='GnBu')\n",
        "plt.xlabel(\"Actual Class\")\n",
        "plt.ylabel(\"Predict Class\")\n",
        "plt.colorbar(heatmap)\n",
        "ax.xaxis.set_ticks_position('bottom')\n",
        "ax.set_xticklabels([\"\",*class_labels])\n",
        "ax.set_yticklabels([\"\",*class_labels])\n",
        "for (i, j), z in np.ndenumerate(confusion_matrix):\n",
        "    ax.text(j, i, '{:0.1f}'.format(z), ha='center', va='center')"
      ],
      "execution_count": 45,
      "outputs": [
        {
          "output_type": "display_data",
          "data": {
            "image/png": "[encoded data removed]",
            "text/plain": [
              "<Figure size 432x288 with 2 Axes>"
            ]
          },
          "metadata": {
            "needs_background": "light"
          }
        }
      ]
    },
    {
      "cell_type": "code",
      "metadata": {
        "id": "gUk_zOyZYHKQ"
      },
      "source": [
        "for i in [\"/content/health-benefits-of-papaya_copy.jpeg\",\"/content/unknown.png\",\"/content/unknown (1).png\",\"/content/unknown (2).png\",\"/content/ripe.jpeg\"]:\n",
        "  img = tf.keras.preprocessing.image.load_img(\n",
        "      i, target_size=(IMAGE_SIZE, IMAGE_SIZE)\n",
        "  )\n",
        "  img_array = tf.keras.preprocessing.image.img_to_array(img)\n",
        "  img_array = img_array / 255\n",
        "  img_array = img_array.reshape(1,IMAGE_SIZE,IMAGE_SIZE,3)\n",
        "  predictions = model.predict(img_array)\n",
        "  score = np.max(predictions[0])\n",
        "  imgplot = plt.imshow(img)\n",
        "  plt.show()\n",
        "  print(\n",
        "      \"This image most likely belongs to {} with {}% confident level\"\n",
        "      .format(class_labels[np.argmax(predictions)],round(score * 100,4))\n",
        "  )"
      ],
      "execution_count": null,
      "outputs": []
    },
    {
      "cell_type": "markdown",
      "metadata": {
        "id": "DrF7D5JiV9Ug"
      },
      "source": [
        "# Save Model to Google Drive"
      ]
    },
    {
      "cell_type": "code",
      "metadata": {
        "colab": {
          "base_uri": "https://localhost:8080/",
          "height": 35
        },
        "id": "LTRa4ZtHZ0KX",
        "outputId": "03d94abd-ad44-4873-8715-a5be5a272794"
      },
      "source": [
        "shutil.copy('model_vgg.h5','/content/gdrive/MyDrive/CSC340 AI/model_vgg_v3.h5')"
      ],
      "execution_count": 48,
      "outputs": [
        {
          "output_type": "execute_result",
          "data": {
            "application/vnd.google.colaboratory.intrinsic+json": {
              "type": "string"
            },
            "text/plain": [
              "'/content/drive/MyDrive/CSC340 AI/model_vgg_v3.h5'"
            ]
          },
          "metadata": {},
          "execution_count": 48
        }
      ]
    }
  ]
}