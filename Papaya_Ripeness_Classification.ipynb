{
  "nbformat": 4,
  "nbformat_minor": 0,
  "metadata": {
    "colab": {
      "name": "Papaya Ripeness Classification.ipynb",
      "private_outputs": true,
      "provenance": [],
      "collapsed_sections": []
    },
    "kernelspec": {
      "name": "python3",
      "display_name": "Python 3"
    },
    "language_info": {
      "name": "python"
    },
    "accelerator": "GPU"
  },
  "cells": [
    {
      "cell_type": "markdown",
      "metadata": {
        "id": "0m7t6TbjnK7G"
      },
      "source": [
        "# Import Dependencies"
      ]
    },
    {
      "cell_type": "code",
      "metadata": {
        "id": "1h-9uec8EdoL"
      },
      "source": [
        "import os\n",
        "import numpy as np\n",
        "import pandas as pd\n",
        "import tensorflow as tf\n",
        "from tensorflow.keras.preprocessing.image import ImageDataGenerator\n",
        "import matplotlib.pyplot as plt"
      ],
      "execution_count": null,
      "outputs": []
    },
    {
      "cell_type": "code",
      "metadata": {
        "id": "ktRDq7Qst1Fp"
      },
      "source": [
        "import gdown\n",
        "import shutil\n",
        "from sklearn.model_selection import train_test_split"
      ],
      "execution_count": null,
      "outputs": []
    },
    {
      "cell_type": "markdown",
      "metadata": {
        "id": "ft-bmNYpBu2T"
      },
      "source": [
        "# Clean Workspace"
      ]
    },
    {
      "cell_type": "code",
      "metadata": {
        "id": "Y1WeMyS7BqBv"
      },
      "source": [
        "!rm -rf papaya_image*\n",
        "!rm -rf __MACOSX"
      ],
      "execution_count": null,
      "outputs": []
    },
    {
      "cell_type": "markdown",
      "metadata": {
        "id": "gCt4VT4-nS0S"
      },
      "source": [
        "# Import Datasets"
      ]
    },
    {
      "cell_type": "markdown",
      "metadata": {
        "id": "wm33xFsJn7cR"
      },
      "source": [
        "## Download from Google Drive"
      ]
    },
    {
      "cell_type": "code",
      "metadata": {
        "id": "6Oyns0ETnIq3"
      },
      "source": [
        "url = \"https://drive.google.com/uc?id=1jxrBIk2DDHPV2xy0VblLal0C8ueqkZ3P\"\n",
        "output = \"papaya_image.zip\"\n",
        "gdown.download(url,output,quiet=False)"
      ],
      "execution_count": null,
      "outputs": []
    },
    {
      "cell_type": "markdown",
      "metadata": {
        "id": "ehvuVe6sn_bd"
      },
      "source": [
        "## Unzip file"
      ]
    },
    {
      "cell_type": "code",
      "metadata": {
        "id": "Vh6T4sRrn06U"
      },
      "source": [
        "!unzip papaya_image.zip"
      ],
      "execution_count": null,
      "outputs": []
    },
    {
      "cell_type": "markdown",
      "metadata": {
        "id": "8EZyGEVPoUne"
      },
      "source": [
        "## Train Validate Split"
      ]
    },
    {
      "cell_type": "markdown",
      "metadata": {
        "id": "sZ0fXRRxuhLh"
      },
      "source": [
        "### Define directory path"
      ]
    },
    {
      "cell_type": "code",
      "metadata": {
        "id": "cWfxpfc-oZF6"
      },
      "source": [
        "root_dir = './'"
      ],
      "execution_count": null,
      "outputs": []
    },
    {
      "cell_type": "code",
      "metadata": {
        "id": "jYzvU3STpI88"
      },
      "source": [
        "base_dir = os.path.join(root_dir,'papaya_image')\n",
        "raw_mature_dir = os.path.join(base_dir,'mature')\n",
        "raw_partially_dir = os.path.join(base_dir,'partiallymature')\n",
        "raw_unmature_dir = os.path.join(base_dir,'unmature')"
      ],
      "execution_count": null,
      "outputs": []
    },
    {
      "cell_type": "code",
      "metadata": {
        "id": "7Qqc1pbTpMx9"
      },
      "source": [
        "train_dir = os.path.join(base_dir,'train')\n",
        "train_mature_dir = os.path.join(train_dir,'mature')\n",
        "train_partially_mature_dir = os.path.join(train_dir,'partiallymature')\n",
        "train_unmature_dir = os.path.join(train_dir,'unmature')"
      ],
      "execution_count": null,
      "outputs": []
    },
    {
      "cell_type": "code",
      "metadata": {
        "id": "NNQX_YMKpOwh"
      },
      "source": [
        "validate_dir = os.path.join(base_dir,'validate')\n",
        "validate_mature_dir = os.path.join(validate_dir,'mature')\n",
        "validate_partially_mature_dir = os.path.join(validate_dir,'partiallymature')\n",
        "validate_unmature_dir = os.path.join(validate_dir,'unmature')"
      ],
      "execution_count": null,
      "outputs": []
    },
    {
      "cell_type": "markdown",
      "metadata": {
        "id": "NSntbde4ubNO"
      },
      "source": [
        "### Create directory for train and validate"
      ]
    },
    {
      "cell_type": "code",
      "metadata": {
        "id": "HbfzLyfwsu8F"
      },
      "source": [
        "os.mkdir(train_dir)\n",
        "os.mkdir(train_mature_dir)\n",
        "os.mkdir(train_partially_mature_dir)\n",
        "os.mkdir(train_unmature_dir)\n",
        "os.mkdir(validate_dir)\n",
        "os.mkdir(validate_mature_dir)\n",
        "os.mkdir(validate_partially_mature_dir)\n",
        "os.mkdir(validate_unmature_dir)"
      ],
      "execution_count": null,
      "outputs": []
    },
    {
      "cell_type": "markdown",
      "metadata": {
        "id": "h5L024JrukuX"
      },
      "source": [
        "### Train and validate split and copy file to target directory"
      ]
    },
    {
      "cell_type": "code",
      "metadata": {
        "id": "4m6Hg4tgpSf4"
      },
      "source": [
        "train_size = 0.8"
      ],
      "execution_count": null,
      "outputs": []
    },
    {
      "cell_type": "code",
      "metadata": {
        "id": "jLQJuuKcpWex"
      },
      "source": [
        "mature_df = pd.DataFrame(data=os.listdir(raw_mature_dir),columns=[\"filename\"])\n",
        "partially_mature_df = pd.DataFrame(data=os.listdir(raw_partially_dir),columns=[\"filename\"])\n",
        "unmature_df = pd.DataFrame(data=os.listdir(raw_unmature_dir),columns=[\"filename\"])"
      ],
      "execution_count": null,
      "outputs": []
    },
    {
      "cell_type": "code",
      "metadata": {
        "id": "_knSCuq9qiT3"
      },
      "source": [
        "mature_train_df, mature_validate_df = train_test_split(mature_df,train_size=train_size,random_state=42)\n",
        "partially_mature_train_df, partially_mature_validate_df = train_test_split(partially_mature_df,train_size=train_size,random_state=42)\n",
        "unmature_train_df, unmature_validate_df = train_test_split(unmature_df,train_size=train_size,random_state=42)"
      ],
      "execution_count": null,
      "outputs": []
    },
    {
      "cell_type": "code",
      "metadata": {
        "id": "jaGMtsqDsV7z"
      },
      "source": [
        "for file in mature_train_df.itertuples():\n",
        "  shutil.copyfile(os.path.join(raw_mature_dir,file[1]),os.path.join(train_mature_dir,file[1]))\n",
        "for file in partially_mature_train_df.itertuples():\n",
        "  shutil.copyfile(os.path.join(raw_partially_dir,file[1]),os.path.join(train_partially_mature_dir,file[1]))\n",
        "for file in unmature_train_df.itertuples():\n",
        "  shutil.copyfile(os.path.join(raw_unmature_dir,file[1]),os.path.join(train_unmature_dir,file[1]))\n",
        "for file in mature_validate_df.itertuples():\n",
        "  shutil.copyfile(os.path.join(raw_mature_dir,file[1]),os.path.join(validate_mature_dir,file[1]))\n",
        "for file in partially_mature_validate_df.itertuples():\n",
        "  shutil.copyfile(os.path.join(raw_partially_dir,file[1]),os.path.join(validate_partially_mature_dir,file[1]))\n",
        "for file in unmature_validate_df.itertuples():\n",
        "  shutil.copyfile(os.path.join(raw_unmature_dir,file[1]),os.path.join(validate_unmature_dir,file[1]))"
      ],
      "execution_count": null,
      "outputs": []
    },
    {
      "cell_type": "markdown",
      "metadata": {
        "id": "Yux6wZHk7yvX"
      },
      "source": [
        "# Preprocessing"
      ]
    },
    {
      "cell_type": "code",
      "metadata": {
        "id": "VhxXbsBOuZe2"
      },
      "source": [
        "IMAGE_SIZE = 300\n",
        "BATCH_SIZE = 100"
      ],
      "execution_count": null,
      "outputs": []
    },
    {
      "cell_type": "code",
      "metadata": {
        "id": "bMPigcYZ8Naq"
      },
      "source": [
        "def showImage(img):\n",
        "  plt.imshow(img)\n",
        "  plt.show()"
      ],
      "execution_count": null,
      "outputs": []
    },
    {
      "cell_type": "code",
      "metadata": {
        "id": "0hrqx84S8nqR"
      },
      "source": [
        "image_gen_train = ImageDataGenerator(\n",
        "      rescale=1./255,\n",
        "      rotation_range=40,\n",
        "      horizontal_flip=True,\n",
        "      vertical_flip=True,\n",
        "      fill_mode='nearest')"
      ],
      "execution_count": null,
      "outputs": []
    },
    {
      "cell_type": "code",
      "metadata": {
        "id": "uXw89CHH8470"
      },
      "source": [
        "train_data_gen = image_gen_train.flow_from_directory(batch_size=BATCH_SIZE,\n",
        "                                                     directory=train_dir,\n",
        "                                                     shuffle=True,\n",
        "                                                     class_mode=\"categorical\",\n",
        "                                                     target_size=(IMAGE_SIZE,IMAGE_SIZE))"
      ],
      "execution_count": null,
      "outputs": []
    },
    {
      "cell_type": "code",
      "metadata": {
        "id": "Ag8ONIRv8_YD"
      },
      "source": [
        "sample_image = train_data_gen[0][0][0]\n",
        "showImage(sample_image)"
      ],
      "execution_count": null,
      "outputs": []
    },
    {
      "cell_type": "code",
      "metadata": {
        "id": "wwwgqJZXEPOE"
      },
      "source": [
        "train_data_gen.class_indices"
      ],
      "execution_count": null,
      "outputs": []
    },
    {
      "cell_type": "code",
      "metadata": {
        "id": "pSZklofO9yhM"
      },
      "source": [
        "image_gen_val = ImageDataGenerator(\n",
        "      rescale=1./255,\n",
        "      rotation_range=40,\n",
        "      horizontal_flip=True,\n",
        "      vertical_flip=True,\n",
        "      fill_mode='nearest')"
      ],
      "execution_count": null,
      "outputs": []
    },
    {
      "cell_type": "code",
      "metadata": {
        "id": "an_Mg2dz-IqH"
      },
      "source": [
        "val_data_gen = image_gen_val.flow_from_directory(batch_size=BATCH_SIZE,\n",
        "                                                 directory=validate_dir,\n",
        "                                                 class_mode=\"categorical\",\n",
        "                                                 target_size=(IMAGE_SIZE, IMAGE_SIZE))"
      ],
      "execution_count": null,
      "outputs": []
    },
    {
      "cell_type": "code",
      "metadata": {
        "id": "d9Tr_w2FEWij"
      },
      "source": [
        "val_data_gen.class_indices"
      ],
      "execution_count": null,
      "outputs": []
    },
    {
      "cell_type": "markdown",
      "metadata": {
        "id": "xy0xGAjhA8bP"
      },
      "source": [
        "# Model Building"
      ]
    },
    {
      "cell_type": "markdown",
      "metadata": {
        "id": "x4wr4TWpBBwo"
      },
      "source": [
        "## Construct Model"
      ]
    },
    {
      "cell_type": "code",
      "metadata": {
        "id": "kImOVkjf-uxe"
      },
      "source": [
        "model = tf.keras.models.Sequential([\n",
        "    tf.keras.layers.Conv2D(64, (3,3), activation='relu', input_shape=(IMAGE_SIZE, IMAGE_SIZE, 3)),\n",
        "    tf.keras.layers.MaxPooling2D(2, 2),\n",
        "    tf.keras.layers.Conv2D(128, (3,3), activation='relu'),\n",
        "    tf.keras.layers.MaxPooling2D(2,2),\n",
        "    tf.keras.layers.Conv2D(128, (3,3), activation='relu'),\n",
        "    tf.keras.layers.MaxPooling2D(2,2),\n",
        "    tf.keras.layers.Dropout(0.5),\n",
        "    tf.keras.layers.Flatten(),\n",
        "    tf.keras.layers.Dense(512, activation='relu'),\n",
        "    tf.keras.layers.Dense(3)\n",
        "])"
      ],
      "execution_count": null,
      "outputs": []
    },
    {
      "cell_type": "code",
      "metadata": {
        "id": "bFMJ4UHR_A_u"
      },
      "source": [
        "model.compile(optimizer='adam',\n",
        "              loss=tf.keras.losses.CategoricalCrossentropy(from_logits=True),\n",
        "              metrics=['accuracy'])"
      ],
      "execution_count": null,
      "outputs": []
    },
    {
      "cell_type": "code",
      "metadata": {
        "id": "RYMiAUGw_McB"
      },
      "source": [
        "model.summary()"
      ],
      "execution_count": null,
      "outputs": []
    },
    {
      "cell_type": "markdown",
      "metadata": {
        "id": "zpCOt2QeA_Q_"
      },
      "source": [
        "## Train Model"
      ]
    },
    {
      "cell_type": "code",
      "metadata": {
        "id": "100jiikV_W-Q"
      },
      "source": [
        "total_train = len(mature_train_df) + len(partially_mature_train_df) + len(unmature_train_df)\n",
        "total_validate = len(mature_validate_df) + len(partially_mature_validate_df) + len(unmature_validate_df)\n",
        "epochs = 100\n",
        "patience = 0.15 * epochs\n",
        "model_name = 'model.h5'"
      ],
      "execution_count": null,
      "outputs": []
    },
    {
      "cell_type": "code",
      "metadata": {
        "id": "agP9_r_4_1M9"
      },
      "source": [
        "model_checkpoint = tf.keras.callbacks.ModelCheckpoint(\n",
        "    model_name, save_best_only=True)\n",
        "early_stopping = tf.keras.callbacks.EarlyStopping(patience=patience)"
      ],
      "execution_count": null,
      "outputs": []
    },
    {
      "cell_type": "code",
      "metadata": {
        "id": "dMKZt3D8ABrl"
      },
      "source": [
        "history = model.fit(\n",
        "    train_data_gen,\n",
        "    steps_per_epoch=int(np.ceil(total_train / float(BATCH_SIZE))),\n",
        "    epochs=epochs,\n",
        "    validation_data=val_data_gen,\n",
        "    validation_steps=int(np.ceil(total_validate / float(BATCH_SIZE))),\n",
        "    callbacks=[early_stopping, model_checkpoint]\n",
        ")"
      ],
      "execution_count": null,
      "outputs": []
    },
    {
      "cell_type": "markdown",
      "metadata": {
        "id": "bJxmvoNzBaHg"
      },
      "source": [
        "## Plot Model Accuracy and Loss"
      ]
    },
    {
      "cell_type": "code",
      "metadata": {
        "id": "TqxuhXJ2AJMU"
      },
      "source": [
        "acc = history.history['accuracy']\n",
        "val_acc = history.history['val_accuracy']\n",
        "\n",
        "loss = history.history['loss']\n",
        "val_loss = history.history['val_loss']\n",
        "\n",
        "epochs_range = range(epochs)\n",
        "\n",
        "plt.figure(figsize=(8, 8))\n",
        "plt.subplot(1, 2, 1)\n",
        "plt.plot(epochs_range, acc, label='Training Accuracy')\n",
        "plt.plot(epochs_range, val_acc, label='Validation Accuracy')\n",
        "plt.legend(loc='lower right')\n",
        "plt.title('Training and Validation Accuracy')\n",
        "\n",
        "plt.subplot(1, 2, 2)\n",
        "plt.plot(epochs_range, loss, label='Training Loss')\n",
        "plt.plot(epochs_range, val_loss, label='Validation Loss')\n",
        "plt.legend(loc='upper right')\n",
        "plt.title('Training and Validation Loss')\n",
        "plt.show()"
      ],
      "execution_count": null,
      "outputs": []
    },
    {
      "cell_type": "code",
      "metadata": {
        "id": "0Z__WXbrTGXG"
      },
      "source": [
        "history.history"
      ],
      "execution_count": null,
      "outputs": []
    },
    {
      "cell_type": "markdown",
      "metadata": {
        "id": "AeoTj__lBWnS"
      },
      "source": [
        "## Load Save Model"
      ]
    },
    {
      "cell_type": "code",
      "metadata": {
        "id": "6YmuCTERAHgx"
      },
      "source": [
        "model = tf.keras.models.load_model(\"model.h5\")"
      ],
      "execution_count": null,
      "outputs": []
    },
    {
      "cell_type": "code",
      "metadata": {
        "id": "MXUF4ojzALOQ"
      },
      "source": [
        "class_labels = [\"mature\", \"partially mature\",\"unmature\"]"
      ],
      "execution_count": null,
      "outputs": []
    },
    {
      "cell_type": "code",
      "metadata": {
        "id": "jp_PM__dbnnw"
      },
      "source": [
        "probability_model = tf.keras.Sequential([model, \n",
        "                                         tf.keras.layers.Softmax()])"
      ],
      "execution_count": null,
      "outputs": []
    },
    {
      "cell_type": "code",
      "metadata": {
        "id": "gUk_zOyZYHKQ"
      },
      "source": [
        "for i in [\"/content/papaya_image/validate/unmature/unmature_097.jpg\",\"/content/papaya_image/validate/partiallymature/partiallymature_092.jpg\",\"/content/papaya_image/validate/mature/Mature_088.jpg\"]:\n",
        "  img = tf.keras.preprocessing.image.load_img(\n",
        "      i, target_size=(IMAGE_SIZE, IMAGE_SIZE)\n",
        "  )\n",
        "  img_array = tf.keras.preprocessing.image.img_to_array(img)\n",
        "  img_array = img_array /255\n",
        "  img_array = tf.expand_dims(img_array, 0)\n",
        "  predictions = probability_model.predict(img_array)\n",
        "  score = tf.nn.softmax(predictions[0])\n",
        "  imgplot = plt.imshow(img)\n",
        "  plt.show()\n",
        "  print(\n",
        "      \"This image most likely belongs to {} with a {} percent confidence.\"\n",
        "      .format(class_labels[np.argmax(score)],  np.max(score) * 100)\n",
        "  )"
      ],
      "execution_count": null,
      "outputs": []
    },
    {
      "cell_type": "markdown",
      "metadata": {
        "id": "DrF7D5JiV9Ug"
      },
      "source": [
        "# Save Model to Google Drive"
      ]
    },
    {
      "cell_type": "code",
      "metadata": {
        "id": "cUo4uhCtZsav"
      },
      "source": [
        "from google.colab import drive\n",
        "drive.mount('/content/gdrive')"
      ],
      "execution_count": null,
      "outputs": []
    },
    {
      "cell_type": "code",
      "metadata": {
        "id": "LTRa4ZtHZ0KX"
      },
      "source": [
        "shutil.copy('model.h5','/content/gdrive/MyDrive/CSC340 AI/')"
      ],
      "execution_count": null,
      "outputs": []
    }
  ]
}