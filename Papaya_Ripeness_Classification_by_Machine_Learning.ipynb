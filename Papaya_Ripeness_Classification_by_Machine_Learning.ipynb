{
  "nbformat": 4,
  "nbformat_minor": 0,
  "metadata": {
    "colab": {
      "name": "Papaya Ripeness Classification by Machine Learning.ipynb",
      "provenance": [],
      "collapsed_sections": []
    },
    "kernelspec": {
      "name": "python3",
      "display_name": "Python 3"
    },
    "language_info": {
      "name": "python"
    }
  },
  "cells": [
    {
      "cell_type": "code",
      "metadata": {
        "id": "jmWXko-6P74w"
      },
      "source": [
        "import os\n",
        "import numpy as np\n",
        "import pandas as pd\n",
        "import tensorflow as tf\n",
        "import matplotlib.pyplot as plt"
      ],
      "execution_count": 2,
      "outputs": []
    },
    {
      "cell_type": "code",
      "metadata": {
        "id": "_AyjxoKZQEjR"
      },
      "source": [
        "import gdown\n",
        "import shutil\n",
        "from sklearn.model_selection import train_test_split"
      ],
      "execution_count": 3,
      "outputs": []
    },
    {
      "cell_type": "code",
      "metadata": {
        "colab": {
          "base_uri": "https://localhost:8080/"
        },
        "id": "R6E4pVVLQHbn",
        "outputId": "e5a263b9-9780-4199-a75c-400b15f687f6"
      },
      "source": [
        "from google.colab import drive\n",
        "drive.mount('/content/gdrive')"
      ],
      "execution_count": 4,
      "outputs": [
        {
          "output_type": "stream",
          "text": [
            "Mounted at /content/gdrive\n"
          ],
          "name": "stdout"
        }
      ]
    },
    {
      "cell_type": "code",
      "metadata": {
        "id": "eKrDaiDSQY1r"
      },
      "source": [
        "!cp /content/gdrive/MyDrive/AI\\ Project/papaya_image.zip ."
      ],
      "execution_count": 7,
      "outputs": []
    },
    {
      "cell_type": "code",
      "metadata": {
        "id": "ZqY1gc9wQ-NV"
      },
      "source": [
        "!unzip papaya_image.zip"
      ],
      "execution_count": null,
      "outputs": []
    },
    {
      "cell_type": "code",
      "metadata": {
        "id": "_p5-eL8zRAPg"
      },
      "source": [
        "!rm -rf papaya_image.zip"
      ],
      "execution_count": null,
      "outputs": []
    },
    {
      "cell_type": "code",
      "metadata": {
        "id": "kv8AbEjJiog8"
      },
      "source": [
        "!cp /content/gdrive/MyDrive/AI\\ Project/papaya_image_small.zip .\n",
        "!unzip papaya_image_small.zip"
      ],
      "execution_count": null,
      "outputs": []
    },
    {
      "cell_type": "code",
      "metadata": {
        "id": "xnQNv7B7RCHH"
      },
      "source": [
        "base_dir = os.path.join('/content','papaya_image')\n",
        "mature_dir = os.path.join(base_dir,'mature')\n",
        "partially_mature_dir = os.path.join(base_dir,'partiallymature')\n",
        "unmature_dir = os.path.join(base_dir,'unmature')"
      ],
      "execution_count": 108,
      "outputs": []
    },
    {
      "cell_type": "code",
      "metadata": {
        "id": "lo6GM7ujUkpC"
      },
      "source": [
        "from PIL import Image"
      ],
      "execution_count": 109,
      "outputs": []
    },
    {
      "cell_type": "code",
      "metadata": {
        "id": "p-O7tnRKSL8e"
      },
      "source": [
        "data = []\n",
        "class_list = {'mature':0,'partiallymature':1,'unmature':2}\n",
        "count = 0\n",
        "for i in [mature_dir,partially_mature_dir,unmature_dir]:\n",
        "  for path in os.listdir(i):\n",
        "    filepath = os.path.join(i,path)\n",
        "    output = i.split('/')\n",
        "    output = output[len(output) - 1]\n",
        "    img = Image.open(filepath)\n",
        "    resized_image = img.resize((256,256))\n",
        "    resized_image = np.array(resized_image)\n",
        "    r_channel = resized_image[:,:,0] / 255\n",
        "    r_channel.reshape(256*256)\n",
        "    g_channel = resized_image[:,:,1] / 255\n",
        "    g_channel.reshape(256*256)\n",
        "    b_channel = resized_image[:,:,2] / 255\n",
        "    b_channel.reshape(256*256)\n",
        "    count+=1\n",
        "    data.append([filepath,np.mean(r_channel),np.mean(g_channel),np.mean(b_channel),class_list[output]])\n",
        "df = pd.DataFrame(data=data,columns=[\"filepath\",\"r_mean\",\"g_mean\",\"b_mean\",\"type\"])"
      ],
      "execution_count": 111,
      "outputs": []
    },
    {
      "cell_type": "code",
      "metadata": {
        "id": "E64NhdqMWD_k"
      },
      "source": [
        "X,y = df[[\"r_mean\",\"g_mean\",\"b_mean\"]], df[\"type\"]"
      ],
      "execution_count": 112,
      "outputs": []
    },
    {
      "cell_type": "code",
      "metadata": {
        "colab": {
          "base_uri": "https://localhost:8080/",
          "height": 419
        },
        "id": "4mttfVfJc02a",
        "outputId": "b20563fc-1bd5-4bb9-97ce-0ea043fe465a"
      },
      "source": [
        "df"
      ],
      "execution_count": 129,
      "outputs": [
        {
          "output_type": "execute_result",
          "data": {
            "text/html": [
              "<div>\n",
              "<style scoped>\n",
              "    .dataframe tbody tr th:only-of-type {\n",
              "        vertical-align: middle;\n",
              "    }\n",
              "\n",
              "    .dataframe tbody tr th {\n",
              "        vertical-align: top;\n",
              "    }\n",
              "\n",
              "    .dataframe thead th {\n",
              "        text-align: right;\n",
              "    }\n",
              "</style>\n",
              "<table border=\"1\" class=\"dataframe\">\n",
              "  <thead>\n",
              "    <tr style=\"text-align: right;\">\n",
              "      <th></th>\n",
              "      <th>filepath</th>\n",
              "      <th>r_mean</th>\n",
              "      <th>g_mean</th>\n",
              "      <th>b_mean</th>\n",
              "      <th>type</th>\n",
              "    </tr>\n",
              "  </thead>\n",
              "  <tbody>\n",
              "    <tr>\n",
              "      <th>0</th>\n",
              "      <td>/content/papaya_image/mature/Mature_037.jpg</td>\n",
              "      <td>0.451342</td>\n",
              "      <td>0.383255</td>\n",
              "      <td>0.341246</td>\n",
              "      <td>0</td>\n",
              "    </tr>\n",
              "    <tr>\n",
              "      <th>1</th>\n",
              "      <td>/content/papaya_image/mature/Mature_063.jpg</td>\n",
              "      <td>0.559533</td>\n",
              "      <td>0.468155</td>\n",
              "      <td>0.430824</td>\n",
              "      <td>0</td>\n",
              "    </tr>\n",
              "    <tr>\n",
              "      <th>2</th>\n",
              "      <td>/content/papaya_image/mature/Mature_013.jpg</td>\n",
              "      <td>0.572902</td>\n",
              "      <td>0.404142</td>\n",
              "      <td>0.328410</td>\n",
              "      <td>0</td>\n",
              "    </tr>\n",
              "    <tr>\n",
              "      <th>3</th>\n",
              "      <td>/content/papaya_image/mature/Mature_091.jpg</td>\n",
              "      <td>0.566751</td>\n",
              "      <td>0.469802</td>\n",
              "      <td>0.362609</td>\n",
              "      <td>0</td>\n",
              "    </tr>\n",
              "    <tr>\n",
              "      <th>4</th>\n",
              "      <td>/content/papaya_image/mature/Mature_043.jpg</td>\n",
              "      <td>0.521416</td>\n",
              "      <td>0.418190</td>\n",
              "      <td>0.364294</td>\n",
              "      <td>0</td>\n",
              "    </tr>\n",
              "    <tr>\n",
              "      <th>...</th>\n",
              "      <td>...</td>\n",
              "      <td>...</td>\n",
              "      <td>...</td>\n",
              "      <td>...</td>\n",
              "      <td>...</td>\n",
              "    </tr>\n",
              "    <tr>\n",
              "      <th>295</th>\n",
              "      <td>/content/papaya_image/unmature/unmature_012.jpg</td>\n",
              "      <td>0.442914</td>\n",
              "      <td>0.485491</td>\n",
              "      <td>0.500396</td>\n",
              "      <td>2</td>\n",
              "    </tr>\n",
              "    <tr>\n",
              "      <th>296</th>\n",
              "      <td>/content/papaya_image/unmature/unmature_060.jpg</td>\n",
              "      <td>0.326638</td>\n",
              "      <td>0.381667</td>\n",
              "      <td>0.393939</td>\n",
              "      <td>2</td>\n",
              "    </tr>\n",
              "    <tr>\n",
              "      <th>297</th>\n",
              "      <td>/content/papaya_image/unmature/unmature_008.jpg</td>\n",
              "      <td>0.443746</td>\n",
              "      <td>0.488172</td>\n",
              "      <td>0.495862</td>\n",
              "      <td>2</td>\n",
              "    </tr>\n",
              "    <tr>\n",
              "      <th>298</th>\n",
              "      <td>/content/papaya_image/unmature/unmature_067.jpg</td>\n",
              "      <td>0.301042</td>\n",
              "      <td>0.358657</td>\n",
              "      <td>0.357944</td>\n",
              "      <td>2</td>\n",
              "    </tr>\n",
              "    <tr>\n",
              "      <th>299</th>\n",
              "      <td>/content/papaya_image/unmature/unmature_028.jpg</td>\n",
              "      <td>0.353981</td>\n",
              "      <td>0.407857</td>\n",
              "      <td>0.434387</td>\n",
              "      <td>2</td>\n",
              "    </tr>\n",
              "  </tbody>\n",
              "</table>\n",
              "<p>300 rows × 5 columns</p>\n",
              "</div>"
            ],
            "text/plain": [
              "                                            filepath    r_mean  ...    b_mean  type\n",
              "0        /content/papaya_image/mature/Mature_037.jpg  0.451342  ...  0.341246     0\n",
              "1        /content/papaya_image/mature/Mature_063.jpg  0.559533  ...  0.430824     0\n",
              "2        /content/papaya_image/mature/Mature_013.jpg  0.572902  ...  0.328410     0\n",
              "3        /content/papaya_image/mature/Mature_091.jpg  0.566751  ...  0.362609     0\n",
              "4        /content/papaya_image/mature/Mature_043.jpg  0.521416  ...  0.364294     0\n",
              "..                                               ...       ...  ...       ...   ...\n",
              "295  /content/papaya_image/unmature/unmature_012.jpg  0.442914  ...  0.500396     2\n",
              "296  /content/papaya_image/unmature/unmature_060.jpg  0.326638  ...  0.393939     2\n",
              "297  /content/papaya_image/unmature/unmature_008.jpg  0.443746  ...  0.495862     2\n",
              "298  /content/papaya_image/unmature/unmature_067.jpg  0.301042  ...  0.357944     2\n",
              "299  /content/papaya_image/unmature/unmature_028.jpg  0.353981  ...  0.434387     2\n",
              "\n",
              "[300 rows x 5 columns]"
            ]
          },
          "metadata": {
            "tags": []
          },
          "execution_count": 129
        }
      ]
    },
    {
      "cell_type": "code",
      "metadata": {
        "colab": {
          "base_uri": "https://localhost:8080/"
        },
        "id": "NLIiusWcY2fZ",
        "outputId": "d495fe1c-7820-41ea-9a02-a7932e6b1f95"
      },
      "source": [
        "from sklearn.model_selection import train_test_split\n",
        "\n",
        "X_train, X_test, y_train, y_test = train_test_split(X, y, test_size=0.30, random_state=0)\n",
        "\n",
        "print ('Training cases: %d\\nTest cases: %d' % (X_train.shape[0], X_test.shape[0]))"
      ],
      "execution_count": 132,
      "outputs": [
        {
          "output_type": "stream",
          "text": [
            "Training cases: 210\n",
            "Test cases: 90\n"
          ],
          "name": "stdout"
        }
      ]
    },
    {
      "cell_type": "code",
      "metadata": {
        "colab": {
          "base_uri": "https://localhost:8080/"
        },
        "id": "gAeC6uhcgYQA",
        "outputId": "3b80d463-9027-44b4-fee0-b331409f394f"
      },
      "source": [
        "import numpy as np\n",
        "from sklearn.neighbors import KNeighborsClassifier\n",
        "model = KNeighborsClassifier(n_neighbors=5)\n",
        "model.fit(X_train,y_train)\n",
        "predictions = model.predict(X_test)\n",
        "from sklearn.metrics import accuracy_score\n",
        "\n",
        "print('Accuracy: ', accuracy_score(y_test, predictions))\n",
        "predictions"
      ],
      "execution_count": 133,
      "outputs": [
        {
          "output_type": "stream",
          "text": [
            "Accuracy:  1.0\n"
          ],
          "name": "stdout"
        },
        {
          "output_type": "execute_result",
          "data": {
            "text/plain": [
              "array([2, 1, 0, 2, 2, 1, 2, 2, 0, 1, 2, 0, 1, 2, 0, 0, 2, 0, 2, 1, 1, 1,\n",
              "       1, 1, 2, 1, 1, 2, 2, 2, 0, 0, 0, 1, 2, 1, 1, 1, 2, 0, 2, 0, 0, 0,\n",
              "       0, 1, 2, 0, 0, 0, 0, 2, 1, 1, 0, 2, 1, 0, 2, 1, 1, 1, 0, 2, 2, 2,\n",
              "       2, 1, 0, 0, 1, 2, 2, 0, 1, 2, 0, 0, 1, 1, 1, 1, 2, 2, 2, 0, 2, 2,\n",
              "       2, 2])"
            ]
          },
          "metadata": {
            "tags": []
          },
          "execution_count": 133
        }
      ]
    },
    {
      "cell_type": "code",
      "metadata": {
        "colab": {
          "base_uri": "https://localhost:8080/"
        },
        "id": "nYC73ReIZnlM",
        "outputId": "f3e289d6-1103-486a-cc9c-80ac9f479da5"
      },
      "source": [
        "paths = ['/content/health-benefits-of-papaya_copy.jpeg','/content/unknown.png','/content/unknown (1).png','/content/unknown (2).png','/content/6000200094495.jpeg']\n",
        "test_data = []\n",
        "for img_path in paths:\n",
        "  img = Image.open(img_path)\n",
        "  resized_image = img.resize((256,256))\n",
        "  resized_image = np.array(resized_image)\n",
        "  r_channel = resized_image[:,:,0] / 255\n",
        "  r_channel.reshape(256*256)\n",
        "  r_mean = np.mean(r_channel)\n",
        "  g_channel = resized_image[:,:,1] / 255\n",
        "  g_channel.reshape(256*256)\n",
        "  g_mean = np.mean(g_channel)\n",
        "  b_channel = resized_image[:,:,2] / 255\n",
        "  b_channel.reshape(256*256)\n",
        "  b_mean = np.mean(b_channel)\n",
        "  test_data.append([r_mean,g_mean,b_mean])\n",
        "test_pred = model.predict(test_data)\n",
        "test_real = [0,0,1,1,0]\n",
        "classes = [\"Mature\",\"Partially Mature\",\"Unmature\"]\n",
        "print('Accuracy: ', accuracy_score(test_real, test_pred))\n",
        "print(test_pred)"
      ],
      "execution_count": 134,
      "outputs": [
        {
          "output_type": "stream",
          "text": [
            "Accuracy:  0.8\n",
            "[0 0 1 0 0]\n"
          ],
          "name": "stdout"
        }
      ]
    }
  ]
}